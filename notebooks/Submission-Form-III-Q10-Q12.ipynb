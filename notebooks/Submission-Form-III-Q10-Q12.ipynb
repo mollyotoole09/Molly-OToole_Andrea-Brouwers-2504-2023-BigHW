{
 "cells": [
  {
   "cell_type": "markdown",
   "metadata": {},
   "source": [
    "### MATH2504 S2, 2023, BigHW Submission \n",
    "### Submission form III of IV "
   ]
  },
  {
   "cell_type": "markdown",
   "metadata": {},
   "source": [
    "Student #1 name:\n",
    "\n",
    "Student #1 ID:\n",
    "\n",
    "Student #2 name:\n",
    "\n",
    "Student #2 ID:\n",
    "\n",
    "GitHub repo: "
   ]
  },
  {
   "cell_type": "markdown",
   "metadata": {},
   "source": [
    "---\n",
    "\n",
    "**Note: It is expected that this notebook be runnable in the sense that the marker can select \"Restart & Run All\" and all code cells of solutions will execute. This requires not to have name clashes between solutions.**\n",
    "\n",
    "---"
   ]
  },
  {
   "cell_type": "markdown",
   "metadata": {},
   "source": [
    "# Solution to [Question 10](https://courses.smp.uq.edu.au/MATH2504/2023/assessment_html/bighw.html#q10)"
   ]
  },
  {
   "cell_type": "markdown",
   "metadata": {},
   "source": [
    "I didn't have many problems with this question. I only found it a little difficult to add the uqMATH2504 collaborator to the GitHub Repo and hyperlink the assignment instructions."
   ]
  },
  {
   "cell_type": "markdown",
   "metadata": {},
   "source": [
    "# Solution to [Question 11](https://courses.smp.uq.edu.au/MATH2504/2023/assessment_html/bighw.html#q11)"
   ]
  },
  {
   "cell_type": "markdown",
   "metadata": {},
   "source": [
    "## 11a:"
   ]
  },
  {
   "cell_type": "markdown",
   "metadata": {},
   "source": [
    "(base) mollyotoole@mollys-MacBook-Pro ~ % pwd  \n",
    "\n",
    "/Users/mollyotoole \n",
    "\n",
    "(base) mollyotoole@mollys-MacBook-Pro ~ % mkdir hw2_q1 \n",
    "\n",
    "(base) mollyotoole@mollys-MacBook-Pro ~ % cd hw2_q1 \n",
    "\n",
    "(base) mollyotoole@mollys-MacBook-Pro hw2_q1 % pwd \n",
    "\n",
    "/Users/mollyotoole/hw2_q1 \n"
   ]
  },
  {
   "cell_type": "markdown",
   "metadata": {},
   "source": [
    "## 11b:"
   ]
  },
  {
   "cell_type": "markdown",
   "metadata": {},
   "source": [
    "(base) mollyotoole@mollys-MacBook-Pro hw2_q1 % echo Molly \n",
    "\n",
    "Molly"
   ]
  },
  {
   "cell_type": "markdown",
   "metadata": {},
   "source": [
    "## 11c:"
   ]
  },
  {
   "cell_type": "markdown",
   "metadata": {},
   "source": [
    "(base) mollyotoole@mollys-MacBook-Pro hw2_q1 % echo \"Molly\" >> /Users/mollyotoole/hw2_q1/my_name.txt\n",
    "\n",
    "Molly"
   ]
  },
  {
   "cell_type": "markdown",
   "metadata": {},
   "source": [
    "## 11d:"
   ]
  },
  {
   "cell_type": "markdown",
   "metadata": {},
   "source": [
    "(base) mollyotoole@mollys-MacBook-Pro hw2_q1 % cat /Users/mollyotoole/hw2_q1/my_name.txt\n",
    "\n",
    "Molly\n"
   ]
  },
  {
   "cell_type": "markdown",
   "metadata": {},
   "source": [
    "## 11e:"
   ]
  },
  {
   "cell_type": "markdown",
   "metadata": {},
   "source": [
    "(base) mollyotoole@mollys-MacBook-Pro hw2_q1 % ls -l\n",
    "\n",
    "total 8\n",
    "\n",
    "-rw-r--r--  1 mollyotoole  staff  6 23 Aug 11:59 my_name.txt"
   ]
  },
  {
   "cell_type": "markdown",
   "metadata": {},
   "source": [
    "## 11f:"
   ]
  },
  {
   "cell_type": "markdown",
   "metadata": {},
   "source": [
    "(base) mollyotoole@mollys-MacBook-Pro hw2_q1 % cp my_name.txt my_name2.txt\n",
    "\n",
    "my_name.txt Molly \n",
    "\n",
    "my_name2.txt Molly"
   ]
  },
  {
   "cell_type": "markdown",
   "metadata": {},
   "source": [
    "## 11g:"
   ]
  },
  {
   "cell_type": "markdown",
   "metadata": {},
   "source": [
    "(base) mollyotoole@mollys-MacBook-Pro ~ % mkdir people \n",
    "\n",
    "(base) mollyotoole@mollys-MacBook-Pro ~ % cd people \n",
    "\n",
    "(base) mollyotoole@mollys-MacBook-Pro people % pwd\n",
    "\n",
    "/Users/mollyotoole/people"
   ]
  },
  {
   "cell_type": "markdown",
   "metadata": {},
   "source": [
    "## 11h:"
   ]
  },
  {
   "cell_type": "markdown",
   "metadata": {},
   "source": [
    "(base) mollyotoole@mollys-MacBook-Pro ~ % mv /Users/mollyotoole/hw2_q1/my_name2.txt  /Users/mollyotoole/people\n",
    "\n",
    "(base) mollyotoole@mollys-MacBook-Pro ~ % cd people \n",
    "\n",
    "(base) mollyotoole@mollys-MacBook-Pro people % ls \n",
    "\n",
    "my_name2.txt\n",
    "\n",
    "(base) mollyotoole@mollys-MacBook-Pro people % mv my_name2.txt MOLLY_OTOOLE.txt\n",
    "\n",
    "(base) mollyotoole@mollys-MacBook-Pro people % ls\n",
    "\n",
    "MOLLY_OTOOLE.txt\n"
   ]
  },
  {
   "cell_type": "markdown",
   "metadata": {},
   "source": [
    "## 11i:"
   ]
  },
  {
   "cell_type": "markdown",
   "metadata": {},
   "source": [
    "Created the files \"peter.txt\", \"alison.txt\", \"jack.txt\" in the people folder. "
   ]
  },
  {
   "cell_type": "markdown",
   "metadata": {},
   "source": [
    "## 11j:"
   ]
  },
  {
   "cell_type": "markdown",
   "metadata": {},
   "source": [
    "(base) mollyotoole@mollys-MacBook-Pro people % mv ../people/peter.txt  ../hw2_q1"
   ]
  },
  {
   "cell_type": "markdown",
   "metadata": {},
   "source": [
    "## 11k:"
   ]
  },
  {
   "cell_type": "markdown",
   "metadata": {},
   "source": [
    "(base) mollyotoole@mollys-MacBook-Pro people % mv /Users/mollyotoole/people/alison.txt  /Users/mollyotoole/hw2_q1"
   ]
  },
  {
   "cell_type": "markdown",
   "metadata": {},
   "source": [
    "## 11l:"
   ]
  },
  {
   "cell_type": "markdown",
   "metadata": {},
   "source": [
    "(base) mollyotoole@mollys-MacBook-Pro hw2_q1 % cp alison.txt .alison.txt"
   ]
  },
  {
   "cell_type": "markdown",
   "metadata": {},
   "source": [
    "## 11m:"
   ]
  },
  {
   "cell_type": "markdown",
   "metadata": {},
   "source": [
    "(base) mollyotoole@mollys-MacBook-Pro hw2_q1 % ls -a\n",
    "\n",
    ".\t\t    ..\t    \t.alison.txt\t    alison.txt\t    my_name.txt\tpeter.txt"
   ]
  },
  {
   "cell_type": "markdown",
   "metadata": {},
   "source": [
    "## 11n:"
   ]
  },
  {
   "cell_type": "markdown",
   "metadata": {},
   "source": [
    "(base) mollyotoole@mollys-MacBook-Pro hw2_q1 % rm -rf ../hw2_q1/.*\n",
    "\n",
    "zsh: sure you want to delete all 4 files in /Users/mollyotoole/hw2_q1/../hw2_q1 [yn]? y\n"
   ]
  },
  {
   "cell_type": "markdown",
   "metadata": {},
   "source": [
    "## 11o:"
   ]
  },
  {
   "cell_type": "markdown",
   "metadata": {},
   "source": [
    "(base) mollyotoole@mollys-MacBook-Pro ~ % rmdir people"
   ]
  },
  {
   "cell_type": "markdown",
   "metadata": {},
   "source": [
    "# Solution to [Question 12](https://courses.smp.uq.edu.au/MATH2504/2023/assessment_html/bighw.html#q12)"
   ]
  },
  {
   "cell_type": "code",
   "execution_count": null,
   "metadata": {},
   "outputs": [],
   "source": [
    "### Answer question 12 here (in place of this comment)"
   ]
  },
  {
   "cell_type": "markdown",
   "metadata": {},
   "source": [
    "---\n",
    "\n",
    "*Use this area below as an experimental playground for the question. Feel free to leave some of the experimental code here with your submision. However, it will not be marked or reviewed. Make sure in your submission that if there is any experimental code here then running it does not interfere with running the actual solutions.*\n",
    "\n",
    "---"
   ]
  },
  {
   "cell_type": "code",
   "execution_count": null,
   "metadata": {},
   "outputs": [],
   "source": []
  },
  {
   "cell_type": "code",
   "execution_count": null,
   "metadata": {},
   "outputs": [],
   "source": []
  },
  {
   "cell_type": "code",
   "execution_count": null,
   "metadata": {},
   "outputs": [],
   "source": []
  },
  {
   "cell_type": "code",
   "execution_count": null,
   "metadata": {},
   "outputs": [],
   "source": []
  }
 ],
 "metadata": {
  "kernelspec": {
   "display_name": "Julia 1.7.3",
   "language": "julia",
   "name": "julia-1.7"
  },
  "language_info": {
   "file_extension": ".jl",
   "mimetype": "application/julia",
   "name": "julia",
   "version": "1.7.3"
  }
 },
 "nbformat": 4,
 "nbformat_minor": 4
}
