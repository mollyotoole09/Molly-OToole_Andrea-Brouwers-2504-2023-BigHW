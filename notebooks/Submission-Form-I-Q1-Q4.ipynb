{
 "cells": [
  {
   "cell_type": "markdown",
   "metadata": {},
   "source": [
    "### MATH2504 S2, 2023, BigHW Submission \n",
    "### Submission form I of IV "
   ]
  },
  {
   "cell_type": "markdown",
   "metadata": {},
   "source": [
    "Student #1 name: Molly O'Toole\n",
    "\n",
    "Student #1 ID: 47524220\n",
    "\n",
    "Student #2 name: Andrea Brouwers\n",
    "\n",
    "Student #2 ID:\n",
    "\n",
    "GitHub repo: "
   ]
  },
  {
   "cell_type": "markdown",
   "metadata": {},
   "source": [
    "---\n",
    "\n",
    "**Note: It is expected that this notebook be runnable in the sense that the marker can select \"Restart & Run All\" and all code cells of solutions will execute. This requires not to have name clashes between solutions.**\n",
    "\n",
    "---"
   ]
  },
  {
   "cell_type": "markdown",
   "metadata": {},
   "source": [
    "# Solution to [Question 1](https://courses.smp.uq.edu.au/MATH2504/2023/assessment_html/bighw.html#q1)"
   ]
  },
  {
   "cell_type": "markdown",
   "metadata": {},
   "source": [
    "## 1a:"
   ]
  },
  {
   "cell_type": "markdown",
   "metadata": {},
   "source": [
    "\\begin{align}\n",
    "\\int_{0}^{\\infty} x^2 e^{-x} \\, dx \\, &= \\, -x^2 e^{-x} \\big| _{0}^{\\infty} + 2 \\int_{0}^{\\infty} xe^{-x} \\, dx \\\\\n",
    "&= 0 + 2 \\left[ -xe^{-x} \\big| _{0}^{\\infty} + \\int_{0}^{\\infty} e^{-x} \\, dx \\right] \\\\\n",
    "&= 2 \\left[ -e^{-x} \\big| _{0}^{\\infty} \\right] \\\\\n",
    "&= 2 \n",
    "\\end{align}"
   ]
  },
  {
   "cell_type": "markdown",
   "metadata": {},
   "source": [
    "## 1b:"
   ]
  },
  {
   "cell_type": "markdown",
   "metadata": {},
   "source": [
    "1. Python is often used for back-end development, data science and app development.\n",
    "2. Java is often used for E-commerce and finance development.\n",
    "3. MATLAB is often used for computational biology, machine learning, and algorithm development.\n",
    "4. PHP is often used to create websites and application.\n",
    "5. HTML is often used for website development and maintenance. "
   ]
  },
  {
   "cell_type": "markdown",
   "metadata": {},
   "source": [
    "## 1c:"
   ]
  },
  {
   "cell_type": "markdown",
   "metadata": {},
   "source": [
    "<img src=\"https://helpx.adobe.com/content/dam/help/en/photoshop/using/convert-color-image-black-white/jcr_content/main-pars/before_and_after/image-before/Landscape-Color.jpg\" align=centre border=5 height = 400 width = 1000>"
   ]
  },
  {
   "cell_type": "markdown",
   "metadata": {},
   "source": [
    "# Solution to [Question 2](https://courses.smp.uq.edu.au/MATH2504/2023/assessment_html/bighw.html#q2)"
   ]
  },
  {
   "cell_type": "markdown",
   "metadata": {},
   "source": [
    "## 2a:"
   ]
  },
  {
   "cell_type": "markdown",
   "metadata": {},
   "source": [
    "#### 2a.1:"
   ]
  },
  {
   "cell_type": "markdown",
   "metadata": {},
   "source": [
    "Yes, the code still runs without the Number type specification. This is because the values inputed for a, b and c are already numbers, and therefore do not need to be specified as numbers. "
   ]
  },
  {
   "cell_type": "code",
   "execution_count": 32,
   "metadata": {},
   "outputs": [
    {
     "data": {
      "text/plain": [
       "2-element Vector{Float64}:\n",
       " 2.0\n",
       " 3.0"
      ]
     },
     "execution_count": 32,
     "metadata": {},
     "output_type": "execute_result"
    }
   ],
   "source": [
    "function real_roots_of_quadratic(a, b, c)\n",
    "\n",
    "    #Start by initializing an empty array\n",
    "    roots::Array{Float64} = [] \n",
    "\n",
    "    #Compute the discriminant \n",
    "    Δ = b^2 - 4a*c #\\Delta + [TAB]\n",
    "\n",
    "    #Based on the sign of the discriminant return 0, 1, or 2 roots.\n",
    "    if Δ < 0 \n",
    "        roots = []\n",
    "    elseif Δ == 0\n",
    "        roots = [-b/(2a)]\n",
    "    else\n",
    "        roots = [-b + √Δ, -b - √Δ] / (2a) #\\sqrt + [TAB] \n",
    "    end\n",
    "    return roots \n",
    "end\n",
    "\n",
    "#Attempting on -x²+5x-6=0\n",
    "real_roots_of_quadratic(-1,5,-6)"
   ]
  },
  {
   "cell_type": "markdown",
   "metadata": {},
   "source": [
    "#### 2a.2:"
   ]
  },
  {
   "cell_type": "markdown",
   "metadata": {},
   "source": [
    "No, 4ac is not a valid form of syntax because the variable ac is not defined. a and c must be expressed as products of eachother using the * operator. "
   ]
  },
  {
   "cell_type": "code",
   "execution_count": 1,
   "metadata": {},
   "outputs": [
    {
     "ename": "LoadError",
     "evalue": "UndefVarError: `ac` not defined",
     "output_type": "error",
     "traceback": [
      "UndefVarError: `ac` not defined",
      "",
      "Stacktrace:",
      " [1] real_roots_of_quadratic(a::Int64, b::Int64, c::Int64)",
      "   @ Main ./In[1]:8",
      " [2] top-level scope",
      "   @ In[1]:22"
     ]
    }
   ],
   "source": [
    "function real_roots_of_quadratic(a::Number, b::Number, c::Number)\n",
    "\n",
    "\n",
    "    #Start by initializing an empty array\n",
    "    roots::Array{Float64} = [] \n",
    "\n",
    "    #Compute the discriminant \n",
    "    Δ = b^2 - 4ac #\\Delta + [TAB]\n",
    "\n",
    "    #Based on the sign of the discriminant return 0, 1, or 2 roots.\n",
    "    if Δ < 0 \n",
    "        roots = []\n",
    "    elseif Δ == 0\n",
    "        roots = [-b/(2a)]\n",
    "    else\n",
    "        roots = [-b + √Δ, -b - √Δ] / (2a) #\\sqrt + [TAB] \n",
    "    end\n",
    "    return roots \n",
    "end\n",
    "\n",
    "#Attempting on -x²+5x-6=0\n",
    "real_roots_of_quadratic(-1,5,-6)"
   ]
  },
  {
   "cell_type": "markdown",
   "metadata": {},
   "source": [
    "#### 2a.3:"
   ]
  },
  {
   "cell_type": "markdown",
   "metadata": {},
   "source": [
    "Replacing Δ == 0 with Δ = 0 generates a syntax error. "
   ]
  },
  {
   "cell_type": "code",
   "execution_count": 45,
   "metadata": {},
   "outputs": [
    {
     "ename": "LoadError",
     "evalue": "syntax: unexpected \"=\"",
     "output_type": "error",
     "traceback": [
      "syntax: unexpected \"=\"",
      "",
      "Stacktrace:",
      " [1] top-level scope",
      "   @ In[45]:12"
     ]
    }
   ],
   "source": [
    "function real_roots_of_quadratic(a::Number, b::Number, c::Number)\n",
    "\n",
    "    #Start by initializing an empty array\n",
    "    roots::Array{Float64} = [] \n",
    "\n",
    "    #Compute the discriminant \n",
    "    Δ = b^2 - 4a*c #\\Delta + [TAB]\n",
    "\n",
    "    #Based on the sign of the discriminant return 0, 1, or 2 roots.\n",
    "    if Δ < 0 \n",
    "        roots = []\n",
    "    elseif Δ = 0\n",
    "        roots = [-b/(2a)]\n",
    "    else\n",
    "        roots = [-b + √Δ, -b - √Δ] / (2a) #\\sqrt + [TAB] \n",
    "    end\n",
    "    return roots \n",
    "end\n",
    "\n",
    "#Attempting on -x²+5x-6=0\n",
    "real_roots_of_quadratic(-1,5,-6)"
   ]
  },
  {
   "cell_type": "markdown",
   "metadata": {},
   "source": [
    "#### 2a.4:"
   ]
  },
  {
   "cell_type": "markdown",
   "metadata": {},
   "source": [
    "Yes, this new syntax works with the .+ operator, however not with the + operator. This is because this new syntax changes the expression to a vector, which therefore needs to be broadcasted through element-wise addition using the dot operator."
   ]
  },
  {
   "cell_type": "code",
   "execution_count": 47,
   "metadata": {},
   "outputs": [
    {
     "data": {
      "text/plain": [
       "2-element Vector{Float64}:\n",
       " 2.0\n",
       " 3.0"
      ]
     },
     "execution_count": 47,
     "metadata": {},
     "output_type": "execute_result"
    }
   ],
   "source": [
    "function real_roots_of_quadratic(a::Number, b::Number, c::Number)\n",
    "\n",
    "    #Start by initializing an empty array\n",
    "    roots::Array{Float64} = [] \n",
    "\n",
    "    #Compute the discriminant \n",
    "    Δ = b^2 - 4a*c #\\Delta + [TAB]\n",
    "\n",
    "    #Based on the sign of the discriminant return 0, 1, or 2 roots.\n",
    "    if Δ < 0 \n",
    "        roots = []\n",
    "    elseif Δ == 0\n",
    "        roots = [-b/(2a)]\n",
    "    else\n",
    "        roots = (-b .+ [√Δ,- √Δ]) / (2a) #\\sqrt + [TAB] \n",
    "    end\n",
    "    return roots \n",
    "end\n",
    "\n",
    "#Attempting on -x²+5x-6=0\n",
    "real_roots_of_quadratic(-1,5,-6)"
   ]
  },
  {
   "cell_type": "markdown",
   "metadata": {},
   "source": [
    "#### 2a.5:"
   ]
  },
  {
   "cell_type": "markdown",
   "metadata": {},
   "source": [
    "Yes, the function still works without the return statement. "
   ]
  },
  {
   "cell_type": "code",
   "execution_count": 48,
   "metadata": {},
   "outputs": [
    {
     "data": {
      "text/plain": [
       "2-element Vector{Float64}:\n",
       " 2.0\n",
       " 3.0"
      ]
     },
     "execution_count": 48,
     "metadata": {},
     "output_type": "execute_result"
    }
   ],
   "source": [
    "function real_roots_of_quadratic(a::Number, b::Number, c::Number)\n",
    "\n",
    "    #Start by initializing an empty array\n",
    "    roots::Array{Float64} = [] \n",
    "\n",
    "    #Compute the discriminant \n",
    "    Δ = b^2 - 4a*c #\\Delta + [TAB]\n",
    "\n",
    "    #Based on the sign of the discriminant return 0, 1, or 2 roots.\n",
    "    if Δ < 0 \n",
    "        roots = []\n",
    "    elseif Δ == 0\n",
    "        roots = [-b/(2a)]\n",
    "    else\n",
    "        roots = [-b + √Δ, -b - √Δ] / (2a) #\\sqrt + [TAB] \n",
    "    end\n",
    "    roots \n",
    "end\n",
    "\n",
    "#Attempting on -x²+5x-6=0\n",
    "real_roots_of_quadratic(-1,5,-6)"
   ]
  },
  {
   "cell_type": "markdown",
   "metadata": {},
   "source": [
    "#### 2a.6:"
   ]
  },
  {
   "cell_type": "markdown",
   "metadata": {},
   "source": [
    "Setting a to 0 or 0.0 produces an output which is not a number (NaN). This is because in the quadratic formula we divide by 2a, which would mean dividing by 0."
   ]
  },
  {
   "cell_type": "code",
   "execution_count": 49,
   "metadata": {},
   "outputs": [
    {
     "data": {
      "text/plain": [
       "2-element Vector{Float64}:\n",
       " NaN\n",
       " -Inf"
      ]
     },
     "execution_count": 49,
     "metadata": {},
     "output_type": "execute_result"
    }
   ],
   "source": [
    "function real_roots_of_quadratic(a::Number, b::Number, c::Number)\n",
    "\n",
    "    #Start by initializing an empty array\n",
    "    roots::Array{Float64} = [] \n",
    "\n",
    "    #Compute the discriminant \n",
    "    Δ = b^2 - 4a*c #\\Delta + [TAB]\n",
    "\n",
    "    #Based on the sign of the discriminant return 0, 1, or 2 roots.\n",
    "    if Δ < 0 \n",
    "        roots = []\n",
    "    elseif Δ == 0\n",
    "        roots = [-b/(2a)]\n",
    "    else\n",
    "        roots = [-b + √Δ, -b - √Δ] / (2a) #\\sqrt + [TAB] \n",
    "    end\n",
    "    return roots \n",
    "end\n",
    "\n",
    "#Attempting on -x²+5x-6=0\n",
    "real_roots_of_quadratic(0,5,-6)"
   ]
  },
  {
   "cell_type": "markdown",
   "metadata": {},
   "source": [
    "#### 2a.7:"
   ]
  },
  {
   "cell_type": "markdown",
   "metadata": {},
   "source": [
    "Adding the error message at the top of the function does handle the case where it is not a quadratic."
   ]
  },
  {
   "cell_type": "code",
   "execution_count": 2,
   "metadata": {},
   "outputs": [
    {
     "data": {
      "text/plain": [
       "\"Error - this is not a quadratic equation\""
      ]
     },
     "execution_count": 2,
     "metadata": {},
     "output_type": "execute_result"
    }
   ],
   "source": [
    "function real_roots_of_quadratic(a::Number, b::Number, c::Number)\n",
    "\n",
    "    if a == 0\n",
    "        return \"Error - this is not a quadratic equation\"\n",
    "    end\n",
    "\n",
    "    #Start by initializing an empty array\n",
    "    roots::Array{Float64} = [] \n",
    "\n",
    "    #Compute the discriminant \n",
    "    Δ = b^2 - 4a*c #\\Delta + [TAB]\n",
    "\n",
    "    #Based on the sign of the discriminant return 0, 1, or 2 roots.\n",
    "    if Δ < 0 \n",
    "        roots = []\n",
    "    elseif Δ == 0\n",
    "        roots = [-b/(2a)]\n",
    "    else\n",
    "        roots = [-b + √Δ, -b - √Δ] / (2a) #\\sqrt + [TAB] \n",
    "    end\n",
    "    return roots \n",
    "end\n",
    "\n",
    "#Attempting on -x²+5x-6=0\n",
    "real_roots_of_quadratic(0,5,-6)"
   ]
  },
  {
   "cell_type": "markdown",
   "metadata": {},
   "source": [
    "#### 2a.8:"
   ]
  },
  {
   "cell_type": "markdown",
   "metadata": {},
   "source": [
    "This shortened code applies when the two statements between the && operator are equivalent. If we set a == 0, then it is equivalent to say that the expression will not be a quadratic, hence running the error code. "
   ]
  },
  {
   "cell_type": "code",
   "execution_count": 53,
   "metadata": {},
   "outputs": [
    {
     "data": {
      "text/plain": [
       "\"Error - this is not a quadratic equation\""
      ]
     },
     "execution_count": 53,
     "metadata": {},
     "output_type": "execute_result"
    }
   ],
   "source": [
    "function real_roots_of_quadratic(a::Number, b::Number, c::Number)\n",
    "\n",
    "    a == 0 && return \"Error - this is not a quadratic equation\"\n",
    "\n",
    "    #Start by initializing an empty array\n",
    "    roots::Array{Float64} = [] \n",
    "\n",
    "    #Compute the discriminant \n",
    "    Δ = b^2 - 4a*c #\\Delta + [TAB]\n",
    "\n",
    "    #Based on the sign of the discriminant return 0, 1, or 2 roots.\n",
    "    if Δ < 0 \n",
    "        roots = []\n",
    "    elseif Δ == 0\n",
    "        roots = [-b/(2a)]\n",
    "    else\n",
    "        roots = [-b + √Δ, -b - √Δ] / (2a) #\\sqrt + [TAB] \n",
    "    end\n",
    "    return roots \n",
    "end\n",
    "\n",
    "#Attempting on -x²+5x-6=0\n",
    "real_roots_of_quadratic(0,5,-6)"
   ]
  },
  {
   "cell_type": "markdown",
   "metadata": {},
   "source": [
    "#### 2a.9:"
   ]
  },
  {
   "cell_type": "markdown",
   "metadata": {},
   "source": [
    "The && operator works in the same way as before, however the throw() function generates the actual error that occurs when a == 0, and locates where in the code the error occured."
   ]
  },
  {
   "cell_type": "code",
   "execution_count": 28,
   "metadata": {},
   "outputs": [
    {
     "ename": "LoadError",
     "evalue": "DomainError with 0:\nargument must be nonzero",
     "output_type": "error",
     "traceback": [
      "DomainError with 0:\nargument must be nonzero",
      "",
      "Stacktrace:",
      " [1] real_roots_of_quadratic(a::Int64, b::Int64, c::Int64)",
      "   @ Main ./In[28]:3",
      " [2] top-level scope",
      "   @ In[28]:23"
     ]
    }
   ],
   "source": [
    "function real_roots_of_quadratic(a::Number, b::Number, c::Number)\n",
    "\n",
    "    a == 0 && throw(DomainError(a, \"argument must be nonzero\"))\n",
    "\n",
    "    #Start by initializing an empty array\n",
    "    roots::Array{Float64} = [] \n",
    "\n",
    "    #Compute the discriminant \n",
    "    Δ = b^2 - 4a*c #\\Delta + [TAB]\n",
    "\n",
    "    #Based on the sign of the discriminant return 0, 1, or 2 roots.\n",
    "    if Δ < 0 \n",
    "        roots = []\n",
    "    elseif Δ == 0\n",
    "        roots = [-b/(2a)]\n",
    "    else\n",
    "        roots = [-b + √Δ, -b - √Δ] / (2a) #\\sqrt + [TAB] \n",
    "    end\n",
    "    return roots \n",
    "end\n",
    "\n",
    "#Attempting on -x²+5x-6=0\n",
    "real_roots_of_quadratic(0,5,-6)"
   ]
  },
  {
   "cell_type": "markdown",
   "metadata": {},
   "source": [
    "---"
   ]
  },
  {
   "cell_type": "markdown",
   "metadata": {},
   "source": [
    " ## 2b:"
   ]
  },
  {
   "cell_type": "markdown",
   "metadata": {},
   "source": [
    "#### 2b.1:"
   ]
  },
  {
   "cell_type": "code",
   "execution_count": 25,
   "metadata": {},
   "outputs": [
    {
     "name": "stdout",
     "output_type": "stream",
     "text": [
      "The equation 1x² + -5x + 6 = 0 has the real roots 3.0 and 2.0\n",
      "The equation 1x² + 2x + 3 = 0 has no real roots.\n",
      "The equation 1x² + 7x + 0 = 0 has the real roots 0.0 and -7.0\n",
      "The equation 3x² + 6x + 0 = 0 has the real roots 0.0 and -2.0\n",
      "The equation 11x² + 3x + 1 = 0 has no real roots.\n"
     ]
    }
   ],
   "source": [
    "examples = [[1,-5,6], [1,2,3], [1,7,0], [3,6,0], [11,3,1]]\n",
    "\n",
    "for example in examples\n",
    "    roots = real_roots_of_quadratic(example[1], example[2], example[3])\n",
    "    print(\"The equation $(example[1])x² + $(example[2])x + $(example[3]) = 0 \") #\\^2 + [TAB] #***\n",
    "    if length(roots) == 0 #***\n",
    "        println(\"has no real roots.\") #***\n",
    "    elseif length(roots) == 1 #***\n",
    "        println(\"has the single (real) root $(roots[1])\") #***\n",
    "    else #***\n",
    "        println(\"has the real roots $(roots[1]) and $(roots[2])\") #***\n",
    "    end #***\n",
    "end"
   ]
  },
  {
   "cell_type": "markdown",
   "metadata": {},
   "source": [
    "#### 2b.2:"
   ]
  },
  {
   "cell_type": "code",
   "execution_count": 21,
   "metadata": {},
   "outputs": [
    {
     "name": "stdout",
     "output_type": "stream",
     "text": [
      "The equation 1x² + -5x + 6 = 0 has the real roots 3.0 and 2.0\n",
      "The equation 1x² + 2x + 3 = 0 has no real roots.\n",
      "The equation 1x² + 7x + 0 = 0 has the real roots 0.0 and -7.0\n",
      "The equation 3x² + 6x + 0 = 0 has the real roots 0.0 and -2.0\n",
      "The equation 11x² + 3x + 1 = 0 has no real roots.\n"
     ]
    }
   ],
   "source": [
    "function print_quadratic_roots(coefficients, roots)\n",
    "    print(\"The equation $(coefficients[1])x² + $(coefficients[2])x + $(coefficients[3]) = 0 \")\n",
    "    if length(roots) == 0\n",
    "        println(\"has no real roots.\")\n",
    "    elseif length(roots) == 1\n",
    "        println(\"has the single (real) root $(roots[1])\")\n",
    "    else\n",
    "        println(\"has the real roots $(roots[1]) and $(roots[2])\")\n",
    "    end\n",
    "end\n",
    "\n",
    "examples = [[1,-5,6], [1,2,3], [1,7,0], [3,6,0], [11,3,1]]\n",
    "\n",
    "for example in examples\n",
    "    roots = real_roots_of_quadratic(example[1], example[2], example[3])\n",
    "    coefficients = example\n",
    "    print_quadratic_roots(coefficients, roots) \n",
    "end\n",
    "return nothing\n"
   ]
  },
  {
   "cell_type": "markdown",
   "metadata": {},
   "source": [
    "#### 2b.3:"
   ]
  },
  {
   "cell_type": "code",
   "execution_count": 23,
   "metadata": {},
   "outputs": [
    {
     "name": "stdout",
     "output_type": "stream",
     "text": [
      "The equation x² -5x + 6 = 0 has the real roots 3.0 and 2.0\n",
      "The equation x² + 2x + 3 = 0 has no real roots.\n",
      "The equation -x² + 7x = 0 has the real roots -0.0 and 7.0\n",
      "The equation x² -5 = 0 has the real roots 2.23606797749979 and -2.23606797749979\n",
      "The equation 4x + 2 = 0 has no real roots.\n"
     ]
    }
   ],
   "source": [
    "function print_quadratic_roots(coefficients, roots)\n",
    "    coefficients = coefficients[1], coefficients[2], coefficients[3]\n",
    "    a_str = (coefficients[1] == 0 ? \"\" : coefficients[1] == 1 ? \"x²\" : coefficients[1] == -1 ? \"-x²\" : string(coefficients[1]) * \"x²\")\n",
    "    b_str = (coefficients[2] == 0 ? \"\" : coefficients[1] == 0 && coefficients[2] > 0 ? string(coefficients[2]) * \"x\" : coefficients[2] == 1 ? \" + x\" : coefficients[2] == -1 ? \" - x\" : coefficients[2] > 0 ? \" + \" * string(coefficients[2]) * \"x\" : coefficients[2] < 0 ? \" \" * string(coefficients[2]) * \"x\" : string(coefficients[2]) * \"x\") \n",
    "    c_str = (coefficients[3] == 0 ? \"\" : coefficients[3] > 0 ? \" + \" * string(coefficients[3]) : coefficients[3] < 0 ? \" \" * string(coefficients[3]) : string(coefficients[3]))\n",
    "    print(\"The equation $(a_str)$(b_str)$(c_str) = 0 \")\n",
    "    if isempty(roots)\n",
    "        println(\"has no real roots.\")\n",
    "    elseif coefficients[1] == 0\n",
    "        println(\"has no real roots.\")\n",
    "    elseif length(roots) == 1\n",
    "        println(\"has the single (real) root $(roots[1])\")\n",
    "    else\n",
    "        println(\"has the real roots $(roots[1]) and $(roots[2])\")\n",
    "    end\n",
    "end\n",
    "\n",
    "examples = [[1,-5,6], [1,2,3], [-1,7,0], [1,0,-5], [0,4,2]]\n",
    "\n",
    "for example in examples\n",
    "    roots = real_roots_of_quadratic(example[1], example[2], example[3])\n",
    "    coefficients = example\n",
    "    print_quadratic_roots(coefficients, roots) \n",
    "end\n",
    "return nothing"
   ]
  },
  {
   "cell_type": "markdown",
   "metadata": {},
   "source": [
    "## 2c:"
   ]
  },
  {
   "cell_type": "markdown",
   "metadata": {},
   "source": [
    "#### 2c.1:"
   ]
  },
  {
   "cell_type": "markdown",
   "metadata": {},
   "source": [
    "2000rand3 .- 1000 is used to simulate an array with three random numbers between 0 and 1, which are then multiplied by 2000 before subtracting 1000. This essentially maps them to the range [-1000, 1000]. To change this range to [-5,5], we need to scale the random numbers to 10 and then subtract 5, changing this expression to 10rand3 .- 5. "
   ]
  },
  {
   "cell_type": "code",
   "execution_count": 54,
   "metadata": {},
   "outputs": [
    {
     "name": "stdout",
     "output_type": "stream",
     "text": [
      "Test passed\n"
     ]
    }
   ],
   "source": [
    "using Random\n",
    "\"\"\"\n",
    "This function generates `num_tests` random triples of coefficients and checks that the function `real_roots_of_quadratic()` does its job. The return value is `true` if the test passed, otherwise it is `false`.\n",
    "\"\"\"\n",
    "function test_real_roots_of_quadratic(;num_tests = 10000, seed=42)\n",
    "    Random.seed!(seed)\n",
    "    test_passed = true\n",
    "    for _ in 1:num_tests\n",
    "        a, b, c = 10rand(3) .- 5 #uniform values in the range [-1000, 1000]\n",
    "        roots = real_roots_of_quadratic(a,b,c)\n",
    "        for x in roots\n",
    "            err = a*x^2 + b*x + c \n",
    "            test_passed = (test_passed && isapprox(err, 0.0, atol = 1e-8)) \n",
    "        end\n",
    "    end\n",
    "    return test_passed\n",
    "end\n",
    "\n",
    "test_real_roots_of_quadratic() ? println(\"Test passed\") : println(\"Test failed\")"
   ]
  },
  {
   "cell_type": "markdown",
   "metadata": {},
   "source": [
    "#### 2c.2:"
   ]
  },
  {
   "cell_type": "markdown",
   "metadata": {},
   "source": [
    "Set coeff_min = -1000 and coeff_max = 1000 in the function and replace 2000 with coeff_max - coeff_min."
   ]
  },
  {
   "cell_type": "code",
   "execution_count": 60,
   "metadata": {},
   "outputs": [
    {
     "name": "stdout",
     "output_type": "stream",
     "text": [
      "Test passed\n"
     ]
    }
   ],
   "source": [
    "using Random\n",
    "\"\"\"\n",
    "This function generates `num_tests` random triples of coefficients and checks that the function `real_roots_of_quadratic()` does its job. The return value is `true` if the test passed, otherwise it is `false`.\n",
    "\"\"\"\n",
    "function test_real_roots_of_quadratic(;num_tests = 10000, seed=42, coeff_min = -1000, coeff_max = 1000)\n",
    "    Random.seed!(seed)\n",
    "    test_passed = true\n",
    "    for _ in 1:num_tests\n",
    "        a, b, c = (coeff_max - coeff_min)*rand(3) .- coeff_max\n",
    "        roots = real_roots_of_quadratic(a,b,c)\n",
    "        for x in roots\n",
    "            err = a*x^2 + b*x + c \n",
    "            test_passed = (test_passed && isapprox(err, 0.0, atol = 1e-8)) \n",
    "        end\n",
    "    end\n",
    "    return test_passed\n",
    "end\n",
    "\n",
    "test_real_roots_of_quadratic() ? println(\"Test passed\") : println(\"Test failed\")"
   ]
  },
  {
   "cell_type": "markdown",
   "metadata": {},
   "source": [
    "#### 2c.3:"
   ]
  },
  {
   "cell_type": "markdown",
   "metadata": {},
   "source": [
    "If there are no real roots, the output of the code will be unaffected and no iterations will be exectued. This is because the second for loop is only iterating through the roots array, which is calculated from the real_roots_of_quadratic formula. If there are no real roots, the for loop has nothing to iterate through and will therefore just return test_passed because this remains true. "
   ]
  },
  {
   "cell_type": "code",
   "execution_count": 57,
   "metadata": {},
   "outputs": [
    {
     "name": "stdout",
     "output_type": "stream",
     "text": [
      "Test passed\n"
     ]
    }
   ],
   "source": [
    "using Random\n",
    "\"\"\"\n",
    "This function generates `num_tests` random triples of coefficients and checks that the function `real_roots_of_quadratic()` does its job. The return value is `true` if the test passed, otherwise it is `false`.\n",
    "\"\"\"\n",
    "function test_real_roots_of_quadratic(;num_tests = 10000, seed=42, coeff_min = -1000, coeff_max = 1000)\n",
    "    Random.seed!(seed)\n",
    "    test_passed = true\n",
    "    for _ in 1:num_tests\n",
    "        a, b, c = (coeff_max - coeff_min)*rand(3) .- coeff_max\n",
    "        roots = real_roots_of_quadratic(a,b,c)\n",
    "        for x in roots\n",
    "            err = a*x^2 + b*x + c \n",
    "            test_passed = (test_passed && isapprox(err, 0.0, atol = 1e-8)) \n",
    "        end\n",
    "    end\n",
    "    return test_passed\n",
    "end\n",
    "\n",
    "test_real_roots_of_quadratic() ? println(\"Test passed\") : println(\"Test failed\")"
   ]
  },
  {
   "cell_type": "markdown",
   "metadata": {},
   "source": [
    "#### 2c.4:"
   ]
  },
  {
   "cell_type": "markdown",
   "metadata": {},
   "source": [
    "We can modify the code for the real_roots_of_quadratic function to have a case for when abs(Δ) < 0.000001. This means that when a quadratic has a discriminant that is very close to 0 but not actually 0, the function may incorrectly classify it as having two real roots instead of one. This will still pass through the test_real_roots_of_quadratic function even if it has incorrectly classified the number of real roots. In the example below, Δ = 0.000000016 is very close to 0 but not exactly 0, therefore the test function still passes even though the real_roots_of_quadratic function classifies it as having 2 real roots."
   ]
  },
  {
   "cell_type": "code",
   "execution_count": 78,
   "metadata": {},
   "outputs": [
    {
     "name": "stdout",
     "output_type": "stream",
     "text": [
      "real_roots_of_quadratic(4, 4, 0.9999999) = [-0.4998418861170332, -0.5001581138829668]\n",
      "Test passed\n"
     ]
    }
   ],
   "source": [
    "function real_roots_of_quadratic(a::Number, b::Number, c::Number)\n",
    "\n",
    "    a == 0 && throw(DomainError(a, \"argument must be nonzero\"))\n",
    "\n",
    "    #Start by initializing an empty array\n",
    "    roots::Array{Float64} = [] \n",
    "\n",
    "    #Compute the discriminant \n",
    "    Δ = b^2 - 4a*c #\\Delta + [TAB]\n",
    "\n",
    "    #Based on the sign of the discriminant return 0, 1, or 2 roots.\n",
    "    if Δ < 0 \n",
    "        roots = []\n",
    "    elseif Δ == 0\n",
    "        roots = [-b/(2a)]\n",
    "    else abs(Δ) < 0.000001\n",
    "        roots = [-b + √Δ, -b - √Δ] / (2a) #\\sqrt + [TAB] \n",
    "    end\n",
    "    return roots \n",
    "end\n",
    "\n",
    "#Attempting on -x²+5x-6=0\n",
    "@show real_roots_of_quadratic(4,4,0.999999999)\n",
    "\n",
    "using Random\n",
    "\"\"\"\n",
    "This function generates `num_tests` random triples of coefficients and checks that the function `real_roots_of_quadratic()` does its job. The return value is `true` if the test passed, otherwise it is `false`.\n",
    "\"\"\"\n",
    "function test_real_roots_of_quadratic(;num_tests = 10000, seed=42, coeff_min = -1000, coeff_max = 1000)\n",
    "    Random.seed!(seed)\n",
    "    test_passed = true\n",
    "    for _ in 1:num_tests\n",
    "        a, b, c = (coeff_max - coeff_min)*rand(3) .- coeff_max\n",
    "        roots = real_roots_of_quadratic(a,b,c)\n",
    "        for x in roots\n",
    "            err = a*x^2 + b*x + c \n",
    "            test_passed = (test_passed && isapprox(err, 0.0, atol = 1e-8)) \n",
    "        end\n",
    "    end\n",
    "    return test_passed\n",
    "end\n",
    "\n",
    "test_real_roots_of_quadratic() ? println(\"Test passed\") : println(\"Test failed\")"
   ]
  },
  {
   "cell_type": "markdown",
   "metadata": {},
   "source": [
    "#### 2c.5:"
   ]
  },
  {
   "cell_type": "code",
   "execution_count": 28,
   "metadata": {},
   "outputs": [
    {
     "ename": "LoadError",
     "evalue": "UndefVarError: `a` not defined",
     "output_type": "error",
     "traceback": [
      "UndefVarError: `a` not defined",
      "",
      "Stacktrace:",
      " [1] test_real_roots_of_quadratic(; num_tests::Int64, seed::Int64)",
      "   @ Main ./In[28]:25",
      " [2] test_real_roots_of_quadratic()",
      "   @ Main ./In[28]:18",
      " [3] top-level scope",
      "   @ In[28]:34"
     ]
    }
   ],
   "source": [
    "using Random\n",
    "\"\"\"\n",
    "This function generates `num_tests` random triples of roots and checks that the function `real_roots_of_quadratic()` does its job. The return value is `true` if the test passed, otherwise it is `false`.\n",
    "\"\"\"\n",
    "\n",
    "#First, define a new function which generates the coefficients from the roots\n",
    "function random_roots(num_roots)\n",
    "    \n",
    "    coeff_min = -1000\n",
    "    coeff_max = 1000\n",
    "\n",
    "    Δ = b^2 - 4a*c\n",
    "\n",
    "    a, b, c = (coeff_max - coeff_min)*rand(3) .- coeff_max\n",
    "    if num_roots == 0\n",
    "        roots = []\n",
    "    elseif num_roots == 1\n",
    "        roots = [-b/(2a)]\n",
    "    else num_roots == 2\n",
    "        roots = [-b + √Δ, -b - √Δ] / (2a)\n",
    "    end \n",
    "    return roots\n",
    "end \n",
    "\n",
    "function find_coefficients(roots)\n",
    "    if length(roots) == 0\n",
    "        \n",
    "    elseif length(roots) == 1\n",
    "        \n",
    "    else length(roots) == 2\n",
    "        roots[1], roots[2] = (-b + √Δ) / (2a) , (-b - √Δ) / (2a)\n",
    "    end \n",
    "    return \n",
    "end\n",
    "\n",
    "function test_real_roots_of_quadratic(;num_tests = 10000, seed=42)\n",
    "    Random.seed!(seed)\n",
    "    roots::Array{Float64} = [] \n",
    "    test_passed = true\n",
    "    for _ in 1:num_tests\n",
    "        num_roots = rand(0:2) \n",
    "        roots = random_roots(num_roots)\n",
    "        comp_roots = (rand() + rand() * im for _ in 1:roots)\n",
    "        \n",
    "        check_coefficients = real_roots_of_quadratic(a,b,c)\n",
    "        for x in check_coefficients\n",
    "            err = a*x^2 + b*x + c \n",
    "            test_passed = (test_passed && isapprox(err, 0.0, atol = 1e-8)) \n",
    "        end\n",
    "    end\n",
    "    return test_passed\n",
    "end\n",
    "\n",
    "test_real_roots_of_quadratic() ? println(\"Test passed\") : println(\"Test failed\")"
   ]
  },
  {
   "cell_type": "markdown",
   "metadata": {},
   "source": [
    "## 2d:"
   ]
  },
  {
   "cell_type": "code",
   "execution_count": 68,
   "metadata": {},
   "outputs": [
    {
     "data": {
      "text/plain": [
       "2-element Vector{ComplexF64}:\n",
       " -1.0 + 1.4142135623730951im\n",
       " -1.0 - 1.4142135623730951im"
      ]
     },
     "execution_count": 68,
     "metadata": {},
     "output_type": "execute_result"
    }
   ],
   "source": [
    "function roots_of_quadratic(a::Number, b::Number, c::Number)\n",
    "    roots::Array{ComplexF64} = []\n",
    "    Δ = b^2 - 4a*c\n",
    "    (Δ < 0) ? roots = [-b + √Complex(Δ), -b - √Complex(Δ)] / (2a) : roots = [-b + √Δ, -b - √Δ] / (2a) \n",
    "    (Δ == 0) && return roots = -b/(2a)\n",
    "    return roots \n",
    "end\n",
    "\n",
    "roots_of_quadratic(1,2,3)"
   ]
  },
  {
   "cell_type": "markdown",
   "metadata": {},
   "source": [
    "---\n",
    "\n",
    "*Use this area below as an experimental playground for the question. Feel free to leave some of the experimental code here with your submision. However, it will not be marked or reviewed. Make sure in your submission that if there is any experimental code here then running it does not interfere with running the actual solutions.*\n",
    "\n",
    "---"
   ]
  },
  {
   "cell_type": "code",
   "execution_count": 38,
   "metadata": {},
   "outputs": [
    {
     "data": {
      "text/plain": [
       "2-element Vector{Float64}:\n",
       " 2.0\n",
       " 3.0"
      ]
     },
     "execution_count": 38,
     "metadata": {},
     "output_type": "execute_result"
    }
   ],
   "source": [
    "function real_roots_of_quadratic(a::Number, b::Number, c::Number)\n",
    "\n",
    "    a == 0 && throw(DomainError(a, \"argument must be nonzero\"))\n",
    "\n",
    "    #Start by initializing an empty array\n",
    "    roots::Array{Float64} = [] \n",
    "\n",
    "    #Compute the discriminant \n",
    "    Δ = b^2 - 4a*c #\\Delta + [TAB]\n",
    "\n",
    "    #Based on the sign of the discriminant return 0, 1, or 2 roots.\n",
    "    if Δ < 0 \n",
    "        roots = []\n",
    "    elseif Δ == 0\n",
    "        roots = [-b/(2a)]\n",
    "    else\n",
    "        roots = [-b + √Δ, -b - √Δ] / (2a) #\\sqrt + [TAB] \n",
    "    end\n",
    "    return roots \n",
    "end\n",
    "\n",
    "#Attempting on -x²+5x-6=0\n",
    "real_roots_of_quadratic(-1,5,-6)"
   ]
  },
  {
   "cell_type": "code",
   "execution_count": 41,
   "metadata": {},
   "outputs": [
    {
     "name": "stdout",
     "output_type": "stream",
     "text": [
      "The equation 1x² + -5x + 6 = 0 has the real roots 3.0 and 2.0\n",
      "The equation 1x² + 2x + 3 = 0 has no real roots.\n",
      "The equation 1x² + 7x + 0 = 0 has the real roots 0.0 and -7.0\n",
      "The equation 3x² + 6x + 0 = 0 has the real roots 0.0 and -2.0\n",
      "The equation 11x² + 3x + 1 = 0 has no real roots.\n"
     ]
    }
   ],
   "source": [
    "examples = [[1,-5,6], [1,2,3], [1,7,0], [3,6,0], [11,3,1]]\n",
    "\n",
    "for example in examples\n",
    "    roots = real_roots_of_quadratic(example[1], example[2], example[3])\n",
    "    print(\"The equation $(example[1])x² + $(example[2])x + $(example[3]) = 0 \") #\\^2 + [TAB] #***\n",
    "    if length(roots) == 0 #***\n",
    "        println(\"has no real roots.\") #***\n",
    "    elseif length(roots) == 1 #***\n",
    "        println(\"has the single (real) root $(roots[1])\") #***\n",
    "    else #***\n",
    "        println(\"has the real roots $(roots[1]) and $(roots[2])\") #***\n",
    "    end #***\n",
    "end"
   ]
  },
  {
   "cell_type": "code",
   "execution_count": 94,
   "metadata": {},
   "outputs": [
    {
     "name": "stdout",
     "output_type": "stream",
     "text": [
      "The equation 1x² + -5x + 6 = 0 has the real roots 3.0 and 2.0\n",
      "The equation 1x² + 2x + 3 = 0 has no real roots.\n",
      "The equation 1x² + 7x + 0 = 0 has the real roots 0.0 and -7.0\n",
      "The equation 3x² + 6x + 0 = 0 has the real roots 0.0 and -2.0\n",
      "The equation 11x² + 3x + 1 = 0 has no real roots.\n"
     ]
    }
   ],
   "source": [
    "function print_quadratic_roots(coefficients, roots)\n",
    "    (coefficients == 1) ? \" \" : (coefficients == -1) ? \" - \" : coefficients\n",
    "    print(\"The equation $(coefficients[1])x² + $(coefficients[2])x + $(coefficients[3]) = 0 \")\n",
    "    if length(roots) == 0\n",
    "        println(\"has no real roots.\")\n",
    "    elseif length(roots) == 1\n",
    "        println(\"has the single (real) root $(roots[1])\")\n",
    "    else\n",
    "        println(\"has the real roots $(roots[1]) and $(roots[2])\")\n",
    "    end\n",
    "end\n",
    "\n",
    "examples = [[1,-5,6], [1,2,3], [1,7,0], [3,6,0], [11,3,1]]\n",
    "\n",
    "for example in examples\n",
    "    roots = real_roots_of_quadratic(example[1], example[2], example[3])\n",
    "    coefficients = example\n",
    "    print_quadratic_roots(coefficients, roots) \n",
    "end\n",
    "return nothing"
   ]
  },
  {
   "cell_type": "code",
   "execution_count": 3,
   "metadata": {},
   "outputs": [
    {
     "name": "stdout",
     "output_type": "stream",
     "text": [
      "The equation x² -5x + 6 = 0 has the real roots 3.0 and 2.0\n",
      "The equation x² + 2x + 3 = 0 has no real roots.\n",
      "The equation -x² + 7x = 0 has the real roots -0.0 and 7.0\n",
      "The equation x² -5 = 0 has the real roots 2.23606797749979 and -2.23606797749979\n",
      "The equation  + 3x + 1 = 0 has the real roots E and r\n"
     ]
    }
   ],
   "source": [
    "function print_quadratic_roots(coefficients, roots)\n",
    "    coefficients = coefficients[1], coefficients[2], coefficients[3]\n",
    "    a_str = (coefficients[1] == 0 ? \"\" : coefficients[1] == 1 ? \"x²\" : coefficients[1] == -1 ? \"-x²\" : string(coefficients[1]) * \"x²\")\n",
    "    b_str = (coefficients[2] == 0 ? \"\" : coefficients[2] == 1 ? \" + x\" : coefficients[2] == -1 ? \" - x\" : coefficients[2] > 0 ? \" + \" * string(coefficients[2]) * \"x\" : coefficients[2] < 0 ? \" \" * string(coefficients[2]) * \"x\" : string(coefficients[2]) * \"x\") \n",
    "    c_str = (coefficients[3] == 0 ? \"\" : coefficients[3] > 0 ? \" + \" * string(coefficients[3]) : coefficients[3] < 0 ? \" \" * string(coefficients[3]) : string(coefficients[3]))\n",
    "    print(\"The equation $(a_str)$(b_str)$(c_str) = 0 \")\n",
    "    if isempty(roots)\n",
    "        println(\"has no real roots.\")\n",
    "    elseif length(roots) == 1\n",
    "        println(\"has the single (real) root $(roots[1])\")\n",
    "    else\n",
    "        println(\"has the real roots $(roots[1]) and $(roots[2])\")\n",
    "    end\n",
    "end\n",
    "\n",
    "examples = [[1,-5,6], [1,2,3], [-1,7,0], [1,0,-5], [0,3,1]]\n",
    "\n",
    "for example in examples\n",
    "    roots = real_roots_of_quadratic(example[1], example[2], example[3])\n",
    "    coefficients = example\n",
    "    print_quadratic_roots(coefficients, roots) \n",
    "end"
   ]
  },
  {
   "cell_type": "markdown",
   "metadata": {},
   "source": [
    "# Solution to [Question 3](https://courses.smp.uq.edu.au/MATH2504/2023/assessment_html/bighw.html#q3)"
   ]
  },
  {
   "cell_type": "markdown",
   "metadata": {},
   "source": [
    "#### 3a:"
   ]
  },
  {
   "cell_type": "code",
   "execution_count": null,
   "metadata": {},
   "outputs": [],
   "source": [
    "\n",
    "    "
   ]
  },
  {
   "cell_type": "markdown",
   "metadata": {},
   "source": [
    "#### 3b:"
   ]
  },
  {
   "cell_type": "code",
   "execution_count": null,
   "metadata": {},
   "outputs": [],
   "source": [
    "### Answer 3b here (in place of this comment)"
   ]
  },
  {
   "cell_type": "markdown",
   "metadata": {},
   "source": [
    "#### 3c:"
   ]
  },
  {
   "cell_type": "code",
   "execution_count": null,
   "metadata": {},
   "outputs": [],
   "source": [
    "### Answer 3c here (in place of this comment)"
   ]
  },
  {
   "cell_type": "markdown",
   "metadata": {},
   "source": [
    "---\n",
    "\n",
    "*Use this area below as an experimental playground for the question. Feel free to leave some of the experimental code here with your submision. However, it will not be marked or reviewed. Make sure in your submission that if there is any experimental code here then running it does not interfere with running the actual solutions.*\n",
    "\n",
    "---"
   ]
  },
  {
   "cell_type": "code",
   "execution_count": null,
   "metadata": {},
   "outputs": [],
   "source": []
  },
  {
   "cell_type": "code",
   "execution_count": null,
   "metadata": {},
   "outputs": [],
   "source": []
  },
  {
   "cell_type": "code",
   "execution_count": null,
   "metadata": {},
   "outputs": [],
   "source": []
  },
  {
   "cell_type": "markdown",
   "metadata": {},
   "source": [
    "# Solution to [Question 4](https://courses.smp.uq.edu.au/MATH2504/2023/assessment_html/bighw.html#q4)"
   ]
  },
  {
   "cell_type": "markdown",
   "metadata": {},
   "source": [
    "## 4a:"
   ]
  },
  {
   "cell_type": "markdown",
   "metadata": {},
   "source": [
    "The first funcition, random_bindary_string(n=12), generates a random binary string of length n = 12. It randomly selects either 0 or 1 and creates an array of length 12 with these binary options.\n",
    "The second function, random_hex_string(n=3), generates a random hexadecimal string of length n = 3. It takes the union of all the hexadecimal characters from 0:9 and A:F before randomly selecting an element from this union. Each character is then added to a string of length 3. "
   ]
  },
  {
   "cell_type": "code",
   "execution_count": 3,
   "metadata": {},
   "outputs": [
    {
     "name": "stdout",
     "output_type": "stream",
     "text": [
      "random_binary_string() = \"001010010011\"\n",
      "random_hex_string() = \"456\"\n"
     ]
    }
   ],
   "source": [
    "random_binary_string(n = 12) = *([rand(['0','1']) for _ in 1:n]...)\n",
    "random_hex_string(n=3) = *([rand(union('0':'9','A':'F')) for _ in 1:n]...);\n",
    "\n",
    "using Random\n",
    "Random.seed!(0)\n",
    "@show random_binary_string()\n",
    "@show random_hex_string();"
   ]
  },
  {
   "cell_type": "markdown",
   "metadata": {},
   "source": [
    "## 4b:"
   ]
  },
  {
   "cell_type": "markdown",
   "metadata": {},
   "source": [
    "For the sum of the binary strings, each element has a 50% probability of being 0 or 1, so the expected value for each element is 0.5. Each string is 12 elements long, so multiplying 12 x 0.5 = 6. Now, summing for 10^3 (1000) strings, we have 1000*6 = 6000. So the expected output should be 6000.\n",
    "\n",
    "For the sum of the hexadecimal strings, each element has an equal probability of 1/16 because there are 16 elements (0 - 9 and A - F). The expected value for each element is therefore (0 + 1 + ... + 15)/16 = 7.5. Each string is 3 characters long, so multiplying 3 x 7.5 = 22.5. Finally, summing for 10^3 (1000) strings, we have 1000*22.5 = 22500. So the expected output should be 22500."
   ]
  },
  {
   "cell_type": "code",
   "execution_count": 174,
   "metadata": {},
   "outputs": [
    {
     "name": "stdout",
     "output_type": "stream",
     "text": [
      "bin_sum = 2001912\n",
      "hex_sum = 2078359\n"
     ]
    },
    {
     "data": {
      "text/plain": [
       "2078359"
      ]
     },
     "execution_count": 174,
     "metadata": {},
     "output_type": "execute_result"
    }
   ],
   "source": [
    "using Random\n",
    "Random.seed!(0)\n",
    "r_bin_strs = [random_binary_string() for _ in 1:10^3]\n",
    "r_hex_strs = [random_hex_string() for _ in 1:10^3];\n",
    "\n",
    "bin_par = [parse(Int, bin, base=2) for bin in r_bin_strs]\n",
    "hex_par = [parse(Int, hex, base=16) for hex in r_hex_strs]\n",
    "bin_sum = sum(bin_par)\n",
    "hex_sum = sum(hex_par)\n",
    "\n",
    "@show bin_sum\n",
    "@show hex_sum"
   ]
  },
  {
   "cell_type": "markdown",
   "metadata": {},
   "source": [
    "## 4c:"
   ]
  },
  {
   "cell_type": "code",
   "execution_count": 183,
   "metadata": {},
   "outputs": [
    {
     "name": "stdout",
     "output_type": "stream",
     "text": [
      "binary_sum_custom = 2001912\n",
      "hex_sum_custom = 2078359\n"
     ]
    },
    {
     "data": {
      "text/plain": [
       "2078359"
      ]
     },
     "execution_count": 183,
     "metadata": {},
     "output_type": "execute_result"
    }
   ],
   "source": [
    "function par_bin_string(bin :: String)\n",
    "    element = 0\n",
    "    for x in bin\n",
    "        element = element * 2 + (x == '1' ? 1 : 0)\n",
    "    end\n",
    "    return element\n",
    "end\n",
    "\n",
    "function par_hex_string(hex :: String)\n",
    "    element = 0\n",
    "    for x in hex\n",
    "        element_value = x in '0':'9' ? Int(x) - Int('A') + 10 : Int(x) - Int('0')\n",
    "        element = element * 16 + element_value\n",
    "    end\n",
    "    return element\n",
    "end\n",
    "\n",
    "using Random\n",
    "Random.seed!(0)\n",
    "r_bin_strs = [random_binary_string() for _ in 1:10^3]\n",
    "r_hex_strs = [random_hex_string() for _ in 1:10^3];\n",
    "\n",
    "bin_sum = sum(par_bin_string(bin) for bin in r_bin_strs)\n",
    "hex_sum = sum(par_hex_string(hex) for hex in r_hex_strs)\n",
    "\n",
    "@show binary_sum_custom\n",
    "@show hex_sum_custom"
   ]
  },
  {
   "cell_type": "markdown",
   "metadata": {},
   "source": [
    "---\n",
    "\n",
    "*Use this area below as an experimental playground for the question. Feel free to leave some of the experimental code here with your submision. However, it will not be marked or reviewed. Make sure in your submission that if there is any experimental code here then running it does not interfere with running the actual solutions.*\n",
    "\n",
    "---"
   ]
  },
  {
   "cell_type": "code",
   "execution_count": 182,
   "metadata": {},
   "outputs": [
    {
     "name": "stdout",
     "output_type": "stream",
     "text": [
      "binary_sum_custom = 2001912\n",
      "hex_sum_custom = 2078359\n"
     ]
    },
    {
     "data": {
      "text/plain": [
       "2078359"
      ]
     },
     "execution_count": 182,
     "metadata": {},
     "output_type": "execute_result"
    }
   ],
   "source": [
    "function par_bin_string(bin :: String)\n",
    "    element = 0\n",
    "    for x in bin\n",
    "        element = element * 2 + (x == '1' ? 1 : 0)\n",
    "    end\n",
    "    return element\n",
    "end\n",
    "\n",
    "function par_hex_string(hex :: String)\n",
    "    element = 0\n",
    "    for x in hex\n",
    "        element_value = x in '0':'9' ? Int(x) - Int('A') + 10 : Int(x) - Int('0')\n",
    "        element = element * 16 + element_value\n",
    "    end\n",
    "    return element\n",
    "end\n",
    "\n",
    "using Random\n",
    "Random.seed!(0)\n",
    "r_bin_strs = [random_binary_string() for _ in 1:10^3]\n",
    "r_hex_strs = [random_hex_string() for _ in 1:10^3]\n",
    "\n",
    "bin_sum = sum(par_bin_string(bin) for bin in r_bin_strs)\n",
    "hex_sum = sum(par_hex_string(hex) for hex in r_hex_strs)\n",
    "\n",
    "@show binary_sum_custom\n",
    "@show hex_sum_custom"
   ]
  },
  {
   "cell_type": "code",
   "execution_count": null,
   "metadata": {},
   "outputs": [],
   "source": []
  },
  {
   "cell_type": "code",
   "execution_count": null,
   "metadata": {},
   "outputs": [],
   "source": []
  }
 ],
 "metadata": {
  "kernelspec": {
   "display_name": "Julia 1.9.2",
   "language": "julia",
   "name": "julia-1.9"
  },
  "language_info": {
   "file_extension": ".jl",
   "mimetype": "application/julia",
   "name": "julia",
   "version": "1.9.2"
  }
 },
 "nbformat": 4,
 "nbformat_minor": 4
}
