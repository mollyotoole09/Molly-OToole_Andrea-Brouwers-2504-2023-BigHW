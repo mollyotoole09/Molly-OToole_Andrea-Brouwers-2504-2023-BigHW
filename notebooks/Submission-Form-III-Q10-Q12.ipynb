{
 "cells": [
  {
   "cell_type": "markdown",
   "metadata": {},
   "source": [
    "### MATH2504 S2, 2023, BigHW Submission \n",
    "### Submission form III of IV "
   ]
  },
  {
   "cell_type": "markdown",
   "metadata": {},
   "source": [
    "Student #1 name:\n",
    "\n",
    "Student #1 ID:\n",
    "\n",
    "Student #2 name:\n",
    "\n",
    "Student #2 ID:\n",
    "\n",
    "GitHub repo: "
   ]
  },
  {
   "cell_type": "markdown",
   "metadata": {},
   "source": [
    "---\n",
    "\n",
    "**Note: It is expected that this notebook be runnable in the sense that the marker can select \"Restart & Run All\" and all code cells of solutions will execute. This requires not to have name clashes between solutions.**\n",
    "\n",
    "---"
   ]
  },
  {
   "cell_type": "markdown",
   "metadata": {},
   "source": [
    "# Solution to [Question 10](https://courses.smp.uq.edu.au/MATH2504/2023/assessment_html/bighw.html#q10)"
   ]
  },
  {
   "cell_type": "markdown",
   "metadata": {},
   "source": [
    "I didn't have many problems with this question. I only found it a little difficult to add the uqMATH2504 collaborator to the GitHub Repo and hyperlink the assignment instructions."
   ]
  },
  {
   "cell_type": "markdown",
   "metadata": {},
   "source": [
    "# Solution to [Question 11](https://courses.smp.uq.edu.au/MATH2504/2023/assessment_html/bighw.html#q11)"
   ]
  },
  {
   "cell_type": "markdown",
   "metadata": {},
   "source": [
    "## 11a:"
   ]
  },
  {
   "cell_type": "markdown",
   "metadata": {},
   "source": [
    "(base) mollyotoole@mollys-MacBook-Pro ~ % pwd  \n",
    "\n",
    "/Users/mollyotoole \n",
    "\n",
    "(base) mollyotoole@mollys-MacBook-Pro ~ % mkdir hw2_q1 \n",
    "\n",
    "(base) mollyotoole@mollys-MacBook-Pro ~ % cd hw2_q1 \n",
    "\n",
    "(base) mollyotoole@mollys-MacBook-Pro hw2_q1 % pwd \n",
    "\n",
    "/Users/mollyotoole/hw2_q1 \n"
   ]
  },
  {
   "cell_type": "markdown",
   "metadata": {},
   "source": [
    "## 11b:"
   ]
  },
  {
   "cell_type": "markdown",
   "metadata": {},
   "source": [
    "(base) mollyotoole@mollys-MacBook-Pro hw2_q1 % echo Molly \n",
    "\n",
    "Molly"
   ]
  },
  {
   "cell_type": "markdown",
   "metadata": {},
   "source": [
    "## 11c:"
   ]
  },
  {
   "cell_type": "markdown",
   "metadata": {},
   "source": [
    "(base) mollyotoole@mollys-MacBook-Pro hw2_q1 % echo \"Molly\" >> /Users/mollyotoole/hw2_q1/my_name.txt\n",
    "\n",
    "Molly"
   ]
  },
  {
   "cell_type": "markdown",
   "metadata": {},
   "source": [
    "## 11d:"
   ]
  },
  {
   "cell_type": "markdown",
   "metadata": {},
   "source": [
    "(base) mollyotoole@mollys-MacBook-Pro hw2_q1 % cat /Users/mollyotoole/hw2_q1/my_name.txt\n",
    "\n",
    "Molly\n"
   ]
  },
  {
   "cell_type": "markdown",
   "metadata": {},
   "source": [
    "## 11e:"
   ]
  },
  {
   "cell_type": "markdown",
   "metadata": {},
   "source": [
    "(base) mollyotoole@mollys-MacBook-Pro hw2_q1 % ls -l\n",
    "\n",
    "total 8\n",
    "\n",
    "-rw-r--r--  1 mollyotoole  staff  6 23 Aug 11:59 my_name.txt"
   ]
  },
  {
   "cell_type": "markdown",
   "metadata": {},
   "source": [
    "## 11f:"
   ]
  },
  {
   "cell_type": "markdown",
   "metadata": {},
   "source": [
    "(base) mollyotoole@mollys-MacBook-Pro hw2_q1 % cp my_name.txt my_name2.txt\n",
    "\n",
    "my_name.txt Molly \n",
    "\n",
    "my_name2.txt Molly"
   ]
  },
  {
   "cell_type": "markdown",
   "metadata": {},
   "source": [
    "## 11g:"
   ]
  },
  {
   "cell_type": "markdown",
   "metadata": {},
   "source": [
    "(base) mollyotoole@mollys-MacBook-Pro ~ % mkdir people \n",
    "\n",
    "(base) mollyotoole@mollys-MacBook-Pro ~ % cd people \n",
    "\n",
    "(base) mollyotoole@mollys-MacBook-Pro people % pwd\n",
    "\n",
    "/Users/mollyotoole/people"
   ]
  },
  {
   "cell_type": "markdown",
   "metadata": {},
   "source": [
    "## 11h:"
   ]
  },
  {
   "cell_type": "markdown",
   "metadata": {},
   "source": [
    "(base) mollyotoole@mollys-MacBook-Pro ~ % mv /Users/mollyotoole/hw2_q1/my_name2.txt  /Users/mollyotoole/people\n",
    "\n",
    "(base) mollyotoole@mollys-MacBook-Pro ~ % cd people \n",
    "\n",
    "(base) mollyotoole@mollys-MacBook-Pro people % ls \n",
    "\n",
    "my_name2.txt\n",
    "\n",
    "(base) mollyotoole@mollys-MacBook-Pro people % mv my_name2.txt MOLLY_OTOOLE.txt\n",
    "\n",
    "(base) mollyotoole@mollys-MacBook-Pro people % ls\n",
    "\n",
    "MOLLY_OTOOLE.txt\n"
   ]
  },
  {
   "cell_type": "markdown",
   "metadata": {},
   "source": [
    "## 11i:"
   ]
  },
  {
   "cell_type": "markdown",
   "metadata": {},
   "source": [
    "Created the files \"peter.txt\", \"alison.txt\", \"jack.txt\" in the people folder. "
   ]
  },
  {
   "cell_type": "markdown",
   "metadata": {},
   "source": [
    "## 11j:"
   ]
  },
  {
   "cell_type": "markdown",
   "metadata": {},
   "source": [
    "(base) mollyotoole@mollys-MacBook-Pro people % mv ../people/peter.txt  ../hw2_q1"
   ]
  },
  {
   "cell_type": "markdown",
   "metadata": {},
   "source": [
    "## 11k:"
   ]
  },
  {
   "cell_type": "markdown",
   "metadata": {},
   "source": [
    "(base) mollyotoole@mollys-MacBook-Pro people % mv /Users/mollyotoole/people/alison.txt  /Users/mollyotoole/hw2_q1"
   ]
  },
  {
   "cell_type": "markdown",
   "metadata": {},
   "source": [
    "## 11l:"
   ]
  },
  {
   "cell_type": "markdown",
   "metadata": {},
   "source": [
    "(base) mollyotoole@mollys-MacBook-Pro hw2_q1 % cp alison.txt .alison.txt"
   ]
  },
  {
   "cell_type": "markdown",
   "metadata": {},
   "source": [
    "## 11m:"
   ]
  },
  {
   "cell_type": "markdown",
   "metadata": {},
   "source": [
    "(base) mollyotoole@mollys-MacBook-Pro hw2_q1 % ls -a\n",
    "\n",
    ".\t\t    ..\t    \t.alison.txt\t    alison.txt\t    my_name.txt\tpeter.txt"
   ]
  },
  {
   "cell_type": "markdown",
   "metadata": {},
   "source": [
    "## 11n:"
   ]
  },
  {
   "cell_type": "markdown",
   "metadata": {},
   "source": [
    "(base) mollyotoole@mollys-MacBook-Pro hw2_q1 % rm -rf ../hw2_q1/.*\n",
    "\n",
    "zsh: sure you want to delete all 4 files in /Users/mollyotoole/hw2_q1/../hw2_q1 [yn]? y\n"
   ]
  },
  {
   "cell_type": "markdown",
   "metadata": {},
   "source": [
    "## 11o:"
   ]
  },
  {
   "cell_type": "markdown",
   "metadata": {},
   "source": [
    "(base) mollyotoole@mollys-MacBook-Pro ~ % rmdir people"
   ]
  },
  {
   "cell_type": "markdown",
   "metadata": {},
   "source": [
    "# Solution to [Question 12](https://courses.smp.uq.edu.au/MATH2504/2023/assessment_html/bighw.html#q12)"
   ]
  },
  {
   "cell_type": "code",
   "execution_count": 62,
   "metadata": {},
   "outputs": [
    {
     "name": "stdout",
     "output_type": "stream",
     "text": [
      "The total number of cells in this file is 60\n",
      "The total number of code cells in this file is 33\n",
      "The total number of markdown cells in this file is 27\n",
      "The total number of code cells that have output is 12\n",
      "The total number of code cells that have no output is 21\n"
     ]
    },
    {
     "name": "stdout",
     "output_type": "stream",
     "text": [
      "The total number of code cells that have an execution count is 0\n",
      "The total number of code cells that have no execution count is 33\n"
     ]
    },
    {
     "name": "stdout",
     "output_type": "stream",
     "text": [
      "markdown_summary = 27×7 DataFrame\n",
      " Row │ cell_number  character_count  line_count  #      ##     ###    ####\n",
      "     │ Int64        Int64            Int64       Int64  Int64  Int64  Int64\n",
      "─────┼──────────────────────────────────────────────────────────────────────\n",
      "   1 │           1              144           9     -8      1      0      0\n",
      "   2 │           2               12           2     -2      0      1      0\n",
      "   3 │           3               12           1      3      1      1      0\n",
      "   4 │           5               12           1      3      1      1      0\n",
      "   5 │           7               12           1      3      1      1      0\n",
      "   6 │           9               13           1      3      1      1      0\n",
      "   7 │          11               13           1      3      1      1      0\n",
      "   8 │          13               27           1      2      1      0      0\n",
      "   9 │          14               84           7      0      0      0      0\n",
      "  10 │          17               33           2     -2      0      1      0\n",
      "  11 │          18               38           1      0      0      0      0\n",
      "  12 │          20               31          30   1307    -66      4      0\n",
      "  13 │          23               21           3     -5     -1      1      0\n",
      "  14 │          25              225           1      0      0      0      0\n",
      "  15 │          26               97           2     -2      0      1      0\n",
      "  16 │          29               13           2     -2      0      1      0\n",
      "  17 │          31               13           2     -2      0      1      0\n",
      "  18 │          32               47           1      1      0      0      0\n",
      "  19 │          33              205           5      0      0      0      0\n",
      "  20 │          34              106           6     -2     -4      1      0\n",
      "  21 │          48              140           1      1      0      0      0\n",
      "  22 │          49               12           1      3      1      1      0\n",
      "  23 │          51               12           1      3      1      1      0\n",
      "  24 │          53               12           1      3      1      1      0\n",
      "  25 │          55               12           1      3      1      1      0\n",
      "  26 │          57               12           1      3      1      1      0\n",
      "  27 │          59               12           1      3      1      1      0\n",
      "code_summary = 33×7 DataFrame\n",
      " Row │ cell_number  character_count  line_count  return  for    if     using\n",
      "     │ Int64        Int64            Int64       Int64   Int64  Int64  Int64\n",
      "─────┼───────────────────────────────────────────────────────────────────────\n",
      "   1 │           4               72           1       0      0      0      0\n",
      "   2 │           6               41           2       0      0      0      0\n",
      "   3 │           8               37           1       0      1      0      0\n",
      "   4 │          10               17           4       0      0      0      0\n",
      "   5 │          12               33           6       0      1      0      0\n",
      "   6 │          15               56          22       2      1      3      0\n",
      "   7 │          16               54           3       0      0      0      0\n",
      "   8 │          19               55           6       0      0      0      1\n",
      "   9 │          21               52           1       0      0      0      0\n",
      "  10 │          22               58           2       0      0      0      0\n",
      "  11 │          24               57           5       0      0      0      1\n",
      "  12 │          27              126           5       0      0      0      2\n",
      "  13 │          28               78           1       0      0      0      1\n",
      "  14 │          30               57           5       0      0      0      1\n",
      "  15 │          35               25          16       1      5      0      1\n",
      "  16 │          36               33           1       0      0      0      0\n",
      "  17 │          37               26           2       0      0      0      0\n",
      "  18 │          38               12           2       0      0      0      1\n",
      "  19 │          39               44          14       1      7      0      0\n",
      "  20 │          40               33           1       0      0      0      0\n",
      "  21 │          41               26           2       0      0      0      0\n",
      "  22 │          42               44          12       1      2      0      0\n",
      "  23 │          43               33           1       0      0      0      0\n",
      "  24 │          44               50           3       0      1      0      0\n",
      "  25 │          45               44          14       1      5      0      0\n",
      "  26 │          46               33           1       0      0      0      0\n",
      "  27 │          47               61           2       0      1      0      0\n",
      "  28 │          50                6           5       0      1      0      0\n",
      "  29 │          52                8           3       0      0      0      0\n",
      "  30 │          54                6           9       0      0      0      0\n",
      "  31 │          56                6           8       0      0      0      0\n",
      "  32 │          58                6          10       2      0      1      0\n",
      "  33 │          60               14           7       0      0      0      0\n"
     ]
    },
    {
     "data": {
      "text/html": [
       "<div><div style = \"float: left;\"><span>33×7 DataFrame</span></div><div style = \"float: right;\"><span style = \"font-style: italic;\">8 rows omitted</span></div><div style = \"clear: both;\"></div></div><div class = \"data-frame\" style = \"overflow-x: scroll;\"><table class = \"data-frame\" style = \"margin-bottom: 6px;\"><thead><tr class = \"header\"><th class = \"rowNumber\" style = \"font-weight: bold; text-align: right;\">Row</th><th style = \"text-align: left;\">cell_number</th><th style = \"text-align: left;\">character_count</th><th style = \"text-align: left;\">line_count</th><th style = \"text-align: left;\">return</th><th style = \"text-align: left;\">for</th><th style = \"text-align: left;\">if</th><th style = \"text-align: left;\">using</th></tr><tr class = \"subheader headerLastRow\"><th class = \"rowNumber\" style = \"font-weight: bold; text-align: right;\"></th><th title = \"Int64\" style = \"text-align: left;\">Int64</th><th title = \"Int64\" style = \"text-align: left;\">Int64</th><th title = \"Int64\" style = \"text-align: left;\">Int64</th><th title = \"Int64\" style = \"text-align: left;\">Int64</th><th title = \"Int64\" style = \"text-align: left;\">Int64</th><th title = \"Int64\" style = \"text-align: left;\">Int64</th><th title = \"Int64\" style = \"text-align: left;\">Int64</th></tr></thead><tbody><tr><td class = \"rowNumber\" style = \"font-weight: bold; text-align: right;\">1</td><td style = \"text-align: right;\">4</td><td style = \"text-align: right;\">72</td><td style = \"text-align: right;\">1</td><td style = \"text-align: right;\">0</td><td style = \"text-align: right;\">0</td><td style = \"text-align: right;\">0</td><td style = \"text-align: right;\">0</td></tr><tr><td class = \"rowNumber\" style = \"font-weight: bold; text-align: right;\">2</td><td style = \"text-align: right;\">6</td><td style = \"text-align: right;\">41</td><td style = \"text-align: right;\">2</td><td style = \"text-align: right;\">0</td><td style = \"text-align: right;\">0</td><td style = \"text-align: right;\">0</td><td style = \"text-align: right;\">0</td></tr><tr><td class = \"rowNumber\" style = \"font-weight: bold; text-align: right;\">3</td><td style = \"text-align: right;\">8</td><td style = \"text-align: right;\">37</td><td style = \"text-align: right;\">1</td><td style = \"text-align: right;\">0</td><td style = \"text-align: right;\">1</td><td style = \"text-align: right;\">0</td><td style = \"text-align: right;\">0</td></tr><tr><td class = \"rowNumber\" style = \"font-weight: bold; text-align: right;\">4</td><td style = \"text-align: right;\">10</td><td style = \"text-align: right;\">17</td><td style = \"text-align: right;\">4</td><td style = \"text-align: right;\">0</td><td style = \"text-align: right;\">0</td><td style = \"text-align: right;\">0</td><td style = \"text-align: right;\">0</td></tr><tr><td class = \"rowNumber\" style = \"font-weight: bold; text-align: right;\">5</td><td style = \"text-align: right;\">12</td><td style = \"text-align: right;\">33</td><td style = \"text-align: right;\">6</td><td style = \"text-align: right;\">0</td><td style = \"text-align: right;\">1</td><td style = \"text-align: right;\">0</td><td style = \"text-align: right;\">0</td></tr><tr><td class = \"rowNumber\" style = \"font-weight: bold; text-align: right;\">6</td><td style = \"text-align: right;\">15</td><td style = \"text-align: right;\">56</td><td style = \"text-align: right;\">22</td><td style = \"text-align: right;\">2</td><td style = \"text-align: right;\">1</td><td style = \"text-align: right;\">3</td><td style = \"text-align: right;\">0</td></tr><tr><td class = \"rowNumber\" style = \"font-weight: bold; text-align: right;\">7</td><td style = \"text-align: right;\">16</td><td style = \"text-align: right;\">54</td><td style = \"text-align: right;\">3</td><td style = \"text-align: right;\">0</td><td style = \"text-align: right;\">0</td><td style = \"text-align: right;\">0</td><td style = \"text-align: right;\">0</td></tr><tr><td class = \"rowNumber\" style = \"font-weight: bold; text-align: right;\">8</td><td style = \"text-align: right;\">19</td><td style = \"text-align: right;\">55</td><td style = \"text-align: right;\">6</td><td style = \"text-align: right;\">0</td><td style = \"text-align: right;\">0</td><td style = \"text-align: right;\">0</td><td style = \"text-align: right;\">1</td></tr><tr><td class = \"rowNumber\" style = \"font-weight: bold; text-align: right;\">9</td><td style = \"text-align: right;\">21</td><td style = \"text-align: right;\">52</td><td style = \"text-align: right;\">1</td><td style = \"text-align: right;\">0</td><td style = \"text-align: right;\">0</td><td style = \"text-align: right;\">0</td><td style = \"text-align: right;\">0</td></tr><tr><td class = \"rowNumber\" style = \"font-weight: bold; text-align: right;\">10</td><td style = \"text-align: right;\">22</td><td style = \"text-align: right;\">58</td><td style = \"text-align: right;\">2</td><td style = \"text-align: right;\">0</td><td style = \"text-align: right;\">0</td><td style = \"text-align: right;\">0</td><td style = \"text-align: right;\">0</td></tr><tr><td class = \"rowNumber\" style = \"font-weight: bold; text-align: right;\">11</td><td style = \"text-align: right;\">24</td><td style = \"text-align: right;\">57</td><td style = \"text-align: right;\">5</td><td style = \"text-align: right;\">0</td><td style = \"text-align: right;\">0</td><td style = \"text-align: right;\">0</td><td style = \"text-align: right;\">1</td></tr><tr><td class = \"rowNumber\" style = \"font-weight: bold; text-align: right;\">12</td><td style = \"text-align: right;\">27</td><td style = \"text-align: right;\">126</td><td style = \"text-align: right;\">5</td><td style = \"text-align: right;\">0</td><td style = \"text-align: right;\">0</td><td style = \"text-align: right;\">0</td><td style = \"text-align: right;\">2</td></tr><tr><td class = \"rowNumber\" style = \"font-weight: bold; text-align: right;\">13</td><td style = \"text-align: right;\">28</td><td style = \"text-align: right;\">78</td><td style = \"text-align: right;\">1</td><td style = \"text-align: right;\">0</td><td style = \"text-align: right;\">0</td><td style = \"text-align: right;\">0</td><td style = \"text-align: right;\">1</td></tr><tr><td style = \"text-align: right;\">&vellip;</td><td style = \"text-align: right;\">&vellip;</td><td style = \"text-align: right;\">&vellip;</td><td style = \"text-align: right;\">&vellip;</td><td style = \"text-align: right;\">&vellip;</td><td style = \"text-align: right;\">&vellip;</td><td style = \"text-align: right;\">&vellip;</td><td style = \"text-align: right;\">&vellip;</td></tr><tr><td class = \"rowNumber\" style = \"font-weight: bold; text-align: right;\">22</td><td style = \"text-align: right;\">42</td><td style = \"text-align: right;\">44</td><td style = \"text-align: right;\">12</td><td style = \"text-align: right;\">1</td><td style = \"text-align: right;\">2</td><td style = \"text-align: right;\">0</td><td style = \"text-align: right;\">0</td></tr><tr><td class = \"rowNumber\" style = \"font-weight: bold; text-align: right;\">23</td><td style = \"text-align: right;\">43</td><td style = \"text-align: right;\">33</td><td style = \"text-align: right;\">1</td><td style = \"text-align: right;\">0</td><td style = \"text-align: right;\">0</td><td style = \"text-align: right;\">0</td><td style = \"text-align: right;\">0</td></tr><tr><td class = \"rowNumber\" style = \"font-weight: bold; text-align: right;\">24</td><td style = \"text-align: right;\">44</td><td style = \"text-align: right;\">50</td><td style = \"text-align: right;\">3</td><td style = \"text-align: right;\">0</td><td style = \"text-align: right;\">1</td><td style = \"text-align: right;\">0</td><td style = \"text-align: right;\">0</td></tr><tr><td class = \"rowNumber\" style = \"font-weight: bold; text-align: right;\">25</td><td style = \"text-align: right;\">45</td><td style = \"text-align: right;\">44</td><td style = \"text-align: right;\">14</td><td style = \"text-align: right;\">1</td><td style = \"text-align: right;\">5</td><td style = \"text-align: right;\">0</td><td style = \"text-align: right;\">0</td></tr><tr><td class = \"rowNumber\" style = \"font-weight: bold; text-align: right;\">26</td><td style = \"text-align: right;\">46</td><td style = \"text-align: right;\">33</td><td style = \"text-align: right;\">1</td><td style = \"text-align: right;\">0</td><td style = \"text-align: right;\">0</td><td style = \"text-align: right;\">0</td><td style = \"text-align: right;\">0</td></tr><tr><td class = \"rowNumber\" style = \"font-weight: bold; text-align: right;\">27</td><td style = \"text-align: right;\">47</td><td style = \"text-align: right;\">61</td><td style = \"text-align: right;\">2</td><td style = \"text-align: right;\">0</td><td style = \"text-align: right;\">1</td><td style = \"text-align: right;\">0</td><td style = \"text-align: right;\">0</td></tr><tr><td class = \"rowNumber\" style = \"font-weight: bold; text-align: right;\">28</td><td style = \"text-align: right;\">50</td><td style = \"text-align: right;\">6</td><td style = \"text-align: right;\">5</td><td style = \"text-align: right;\">0</td><td style = \"text-align: right;\">1</td><td style = \"text-align: right;\">0</td><td style = \"text-align: right;\">0</td></tr><tr><td class = \"rowNumber\" style = \"font-weight: bold; text-align: right;\">29</td><td style = \"text-align: right;\">52</td><td style = \"text-align: right;\">8</td><td style = \"text-align: right;\">3</td><td style = \"text-align: right;\">0</td><td style = \"text-align: right;\">0</td><td style = \"text-align: right;\">0</td><td style = \"text-align: right;\">0</td></tr><tr><td class = \"rowNumber\" style = \"font-weight: bold; text-align: right;\">30</td><td style = \"text-align: right;\">54</td><td style = \"text-align: right;\">6</td><td style = \"text-align: right;\">9</td><td style = \"text-align: right;\">0</td><td style = \"text-align: right;\">0</td><td style = \"text-align: right;\">0</td><td style = \"text-align: right;\">0</td></tr><tr><td class = \"rowNumber\" style = \"font-weight: bold; text-align: right;\">31</td><td style = \"text-align: right;\">56</td><td style = \"text-align: right;\">6</td><td style = \"text-align: right;\">8</td><td style = \"text-align: right;\">0</td><td style = \"text-align: right;\">0</td><td style = \"text-align: right;\">0</td><td style = \"text-align: right;\">0</td></tr><tr><td class = \"rowNumber\" style = \"font-weight: bold; text-align: right;\">32</td><td style = \"text-align: right;\">58</td><td style = \"text-align: right;\">6</td><td style = \"text-align: right;\">10</td><td style = \"text-align: right;\">2</td><td style = \"text-align: right;\">0</td><td style = \"text-align: right;\">1</td><td style = \"text-align: right;\">0</td></tr><tr><td class = \"rowNumber\" style = \"font-weight: bold; text-align: right;\">33</td><td style = \"text-align: right;\">60</td><td style = \"text-align: right;\">14</td><td style = \"text-align: right;\">7</td><td style = \"text-align: right;\">0</td><td style = \"text-align: right;\">0</td><td style = \"text-align: right;\">0</td><td style = \"text-align: right;\">0</td></tr></tbody></table></div>"
      ],
      "text/latex": [
       "\\begin{tabular}{r|ccccccc}\n",
       "\t& cell\\_number & character\\_count & line\\_count & return & for & if & using\\\\\n",
       "\t\\hline\n",
       "\t& Int64 & Int64 & Int64 & Int64 & Int64 & Int64 & Int64\\\\\n",
       "\t\\hline\n",
       "\t1 & 4 & 72 & 1 & 0 & 0 & 0 & 0 \\\\\n",
       "\t2 & 6 & 41 & 2 & 0 & 0 & 0 & 0 \\\\\n",
       "\t3 & 8 & 37 & 1 & 0 & 1 & 0 & 0 \\\\\n",
       "\t4 & 10 & 17 & 4 & 0 & 0 & 0 & 0 \\\\\n",
       "\t5 & 12 & 33 & 6 & 0 & 1 & 0 & 0 \\\\\n",
       "\t6 & 15 & 56 & 22 & 2 & 1 & 3 & 0 \\\\\n",
       "\t7 & 16 & 54 & 3 & 0 & 0 & 0 & 0 \\\\\n",
       "\t8 & 19 & 55 & 6 & 0 & 0 & 0 & 1 \\\\\n",
       "\t9 & 21 & 52 & 1 & 0 & 0 & 0 & 0 \\\\\n",
       "\t10 & 22 & 58 & 2 & 0 & 0 & 0 & 0 \\\\\n",
       "\t11 & 24 & 57 & 5 & 0 & 0 & 0 & 1 \\\\\n",
       "\t12 & 27 & 126 & 5 & 0 & 0 & 0 & 2 \\\\\n",
       "\t13 & 28 & 78 & 1 & 0 & 0 & 0 & 1 \\\\\n",
       "\t14 & 30 & 57 & 5 & 0 & 0 & 0 & 1 \\\\\n",
       "\t15 & 35 & 25 & 16 & 1 & 5 & 0 & 1 \\\\\n",
       "\t16 & 36 & 33 & 1 & 0 & 0 & 0 & 0 \\\\\n",
       "\t17 & 37 & 26 & 2 & 0 & 0 & 0 & 0 \\\\\n",
       "\t18 & 38 & 12 & 2 & 0 & 0 & 0 & 1 \\\\\n",
       "\t19 & 39 & 44 & 14 & 1 & 7 & 0 & 0 \\\\\n",
       "\t20 & 40 & 33 & 1 & 0 & 0 & 0 & 0 \\\\\n",
       "\t21 & 41 & 26 & 2 & 0 & 0 & 0 & 0 \\\\\n",
       "\t22 & 42 & 44 & 12 & 1 & 2 & 0 & 0 \\\\\n",
       "\t23 & 43 & 33 & 1 & 0 & 0 & 0 & 0 \\\\\n",
       "\t24 & 44 & 50 & 3 & 0 & 1 & 0 & 0 \\\\\n",
       "\t$\\dots$ & $\\dots$ & $\\dots$ & $\\dots$ & $\\dots$ & $\\dots$ & $\\dots$ & $\\dots$ \\\\\n",
       "\\end{tabular}\n"
      ],
      "text/plain": [
       "\u001b[1m33×7 DataFrame\u001b[0m\n",
       "\u001b[1m Row \u001b[0m│\u001b[1m cell_number \u001b[0m\u001b[1m character_count \u001b[0m\u001b[1m line_count \u001b[0m\u001b[1m return \u001b[0m\u001b[1m for   \u001b[0m\u001b[1m if    \u001b[0m\u001b[1m using \u001b[0m\n",
       "     │\u001b[90m Int64       \u001b[0m\u001b[90m Int64           \u001b[0m\u001b[90m Int64      \u001b[0m\u001b[90m Int64  \u001b[0m\u001b[90m Int64 \u001b[0m\u001b[90m Int64 \u001b[0m\u001b[90m Int64 \u001b[0m\n",
       "─────┼───────────────────────────────────────────────────────────────────────\n",
       "   1 │           4               72           1       0      0      0      0\n",
       "   2 │           6               41           2       0      0      0      0\n",
       "   3 │           8               37           1       0      1      0      0\n",
       "   4 │          10               17           4       0      0      0      0\n",
       "   5 │          12               33           6       0      1      0      0\n",
       "   6 │          15               56          22       2      1      3      0\n",
       "   7 │          16               54           3       0      0      0      0\n",
       "   8 │          19               55           6       0      0      0      1\n",
       "  ⋮  │      ⋮              ⋮             ⋮         ⋮       ⋮      ⋮      ⋮\n",
       "  27 │          47               61           2       0      1      0      0\n",
       "  28 │          50                6           5       0      1      0      0\n",
       "  29 │          52                8           3       0      0      0      0\n",
       "  30 │          54                6           9       0      0      0      0\n",
       "  31 │          56                6           8       0      0      0      0\n",
       "  32 │          58                6          10       2      0      1      0\n",
       "  33 │          60               14           7       0      0      0      0\n",
       "\u001b[36m                                                              18 rows omitted\u001b[0m"
      ]
     },
     "metadata": {},
     "output_type": "display_data"
    }
   ],
   "source": [
    "using HTTP, JSON, CSV, DataFrames\n",
    "\n",
    "practical_web = HTTP.request(\"GET\",\"https://raw.githubusercontent.com/yoninazarathy/ProgrammingCourse-with-Julia-SimulationAnalysisAndLearningSystems/main/practicals_jupyter/practical_B_julia_essentials.ipynb\")\n",
    "practical_web_data = JSON.parse(String(practical_web.body))\n",
    "\n",
    "cells = practical_web_data[\"cells\"]\n",
    "number_of_cells = length(cells)\n",
    "println(\"The total number of cells in this file is $(number_of_cells)\")\n",
    "\n",
    "n = 1\n",
    "code_cells = 0\n",
    "markdown_cells = 0\n",
    "for n in 1:60\n",
    "    cell_type = cells[n][\"cell_type\"]\n",
    "    if cell_type == \"code\"\n",
    "        code_cells += 1\n",
    "    elseif cell_type == \"markdown\"\n",
    "        markdown_cells += 1\n",
    "    end \n",
    "    n += 1\n",
    "end\n",
    "\n",
    "println(\"The total number of code cells in this file is $(code_cells)\")\n",
    "println(\"The total number of markdown cells in this file is $(markdown_cells)\")\n",
    "\n",
    "n = 1\n",
    "output = 0\n",
    "for n in cells\n",
    "    if n[\"cell_type\"] == \"code\"\n",
    "        if !isempty(n[\"outputs\"])\n",
    "            output += 1\n",
    "        end \n",
    "    end \n",
    "end\n",
    "\n",
    "println(\"The total number of code cells that have output is $(output)\")\n",
    "println(\"The total number of code cells that have no output is $(code_cells - output)\")\n",
    "\n",
    "#number of code cells with an execution count \n",
    "\n",
    "n = 1\n",
    "execution = 0 \n",
    "no_execution = 0\n",
    "for n in cells\n",
    "    if n[\"cell_type\"] == \"code\"\n",
    "        if n[\"execution_count\"] == \"null\"\n",
    "            execution += 1\n",
    "        else \n",
    "            no_execution += 1\n",
    "        end  \n",
    "    end\n",
    "end\n",
    "\n",
    "println(\"The total number of code cells that have an execution count is $(execution)\")\n",
    "println(\"The total number of code cells that have no execution count is $(no_execution)\")\n",
    "\n",
    "\n",
    "#first column\n",
    "\n",
    "i = 1 \n",
    "j = 1\n",
    "number_code_cells = Array{Int}(undef, code_cells)\n",
    "for i in 1:60 \n",
    "    check = cells[i][\"cell_type\"]\n",
    "    if check == \"code\"\n",
    "        number_code_cells[j] = i\n",
    "        j = j + 1\n",
    "    end\n",
    "    i = i + 1\n",
    "end\n",
    "\n",
    "\n",
    "i = 1 \n",
    "j = 1\n",
    "number_markdown_cells = Array{Int}(undef, markdown_cells)\n",
    "for i in 1:60 \n",
    "    check = cells[i][\"cell_type\"]\n",
    "    if check == \"markdown\"\n",
    "        number_markdown_cells[j] = i\n",
    "        j = j + 1\n",
    "    end\n",
    "    i = i + 1\n",
    "end\n",
    "\n",
    "\n",
    "#second column\n",
    "\n",
    "n = 1 \n",
    "character_count_code_cells = Array{Int}(undef, code_cells)\n",
    "for n in 1:code_cells \n",
    "    a = number_code_cells[n]\n",
    "    b = cells[a][\"source\"][1]\n",
    "    character_count_code_cells[n] = length(b) \n",
    "    n = n + 1\n",
    "end \n",
    "\n",
    "n = 1 \n",
    "character_count_markdown_cells = Array{Int}(undef, markdown_cells)\n",
    "for n in 1:markdown_cells \n",
    "    a = number_markdown_cells[n]\n",
    "    b = cells[a][\"source\"][1]\n",
    "    character_count_markdown_cells[n] = length(b) \n",
    "    n = n + 1\n",
    "end \n",
    "    \n",
    "\n",
    "#third column \n",
    "\n",
    "n = 1\n",
    "line_count_code_cells = Array{Int}(undef, code_cells)\n",
    "for n in 1:code_cells\n",
    "    a = number_code_cells[n]\n",
    "    b = cells[a][\"source\"]\n",
    "    line_count_code_cells[n] = length(b)\n",
    "    n = n + 1\n",
    "end\n",
    "\n",
    "n = 1\n",
    "line_count_markdown_cells = Array{Int}(undef, markdown_cells)\n",
    "for n in 1:markdown_cells\n",
    "    a = number_markdown_cells[n]\n",
    "    b = cells[a][\"source\"]\n",
    "    line_count_markdown_cells[n] = length(b)\n",
    "    n = n + 1\n",
    "end\n",
    "\n",
    "#fourth - seventh columns - markdown summary \n",
    "\n",
    "n = 1\n",
    "\n",
    "first_mark_array = Array{Int}(undef, markdown_cells)\n",
    "second_mark_array = Array{Int}(undef, markdown_cells)\n",
    "third_mark_array = Array{Int}(undef, markdown_cells)\n",
    "fourth_mark_array = Array{Int}(undef, markdown_cells)\n",
    "\n",
    "for n in 1:markdown_cells\n",
    "    a = number_markdown_cells[n]\n",
    "    b = cells[a][\"source\"]\n",
    "    i  = length(b)\n",
    "    j = 1\n",
    "    first_mark, second_mark, third_mark, fourth_mark = 0, 0, 0, 0\n",
    "    for j in 1:i\n",
    "        c = b[j]\n",
    "        first_mark = first_mark + count(\"#\", c) - (2*second_mark + 3*third_mark + 4*fourth_mark)\n",
    "        second_mark = second_mark + count(\"##\", c) - (third_mark + 2*fourth_mark)\n",
    "        third_mark = third_mark + count(\"###\", c) - (fourth_mark)\n",
    "        fourth_mark = fourth_mark + count(\"####\", c)\n",
    "        j = j + 1\n",
    "    end\n",
    "first_mark_array[n] = first_mark\n",
    "second_mark_array[n] = second_mark\n",
    "third_mark_array[n] = third_mark\n",
    "fourth_mark_array[n] = fourth_mark\n",
    "n = n + 1\n",
    "end \n",
    "\n",
    "#fourth - seventh columns - code summary \n",
    "\n",
    "n = 1\n",
    "\n",
    "first_code_array = Array{Int}(undef, code_cells)\n",
    "second_code_array = Array{Int}(undef, code_cells)\n",
    "third_code_array = Array{Int}(undef, code_cells)\n",
    "fourth_code_array = Array{Int}(undef, code_cells)\n",
    "\n",
    "for n in 1:code_cells\n",
    "    a = number_code_cells[n]\n",
    "    b = cells[a][\"source\"]\n",
    "    i  = length(b)\n",
    "    j = 1\n",
    "    first_code, second_code, third_code, fourth_code = 0, 0, 0, 0\n",
    "    for j in 1:i\n",
    "        c = b[j]\n",
    "        first_code = first_code + count(\"return\", c) \n",
    "        second_code = second_code + count(\"for\", c) \n",
    "        third_code = third_code + count(\"if\", c) \n",
    "        fourth_code = fourth_code + count(\"using\", c)\n",
    "        j = j + 1\n",
    "    end\n",
    "first_code_array[n] = first_code\n",
    "second_code_array[n] = second_code\n",
    "third_code_array[n] = third_code\n",
    "fourth_code_array[n] = fourth_code\n",
    "n = n + 1\n",
    "end \n",
    "\n",
    "markdown_summary = DataFrame(cell_number = number_markdown_cells, \n",
    "                            character_count = character_count_markdown_cells,\n",
    "                            line_count = line_count_markdown_cells,\n",
    "                            first = first_mark_array,\n",
    "                            second = second_mark_array,\n",
    "                            third = third_mark_array,\n",
    "                            fourth = fourth_mark_array)\n",
    "\n",
    "code_summary = DataFrame(cell_number = number_code_cells, \n",
    "                        character_count = character_count_code_cells,\n",
    "                        line_count = line_count_code_cells,\n",
    "                        first = first_code_array,\n",
    "                        second = second_code_array,\n",
    "                        third = third_code_array,\n",
    "                        fourth = fourth_code_array)\n",
    "\n",
    "markdown_column_names = [\"cell_number\", \"character_count\", \"line_count\", \"#\", \"##\", \"###\", \"####\"]\n",
    "code_column_names = [\"cell_number\", \"character_count\", \"line_count\", \"return\", \"for\", \"if\", \"using\"]\n",
    "rename!(markdown_summary, (markdown_column_names))\n",
    "rename!(code_summary, (code_column_names))\n",
    "\n",
    "CSV.write(\"markdown_summary.csv\", markdown_summary)\n",
    "CSV.write(\"code_summary.csv\", code_summary)\n",
    "@show markdown_summary\n",
    "@show code_summary"
   ]
  },
  {
   "cell_type": "markdown",
   "metadata": {},
   "source": [
    "---\n",
    "\n",
    "*Use this area below as an experimental playground for the question. Feel free to leave some of the experimental code here with your submision. However, it will not be marked or reviewed. Make sure in your submission that if there is any experimental code here then running it does not interfere with running the actual solutions.*\n",
    "\n",
    "---"
   ]
  },
  {
   "cell_type": "code",
   "execution_count": null,
   "metadata": {},
   "outputs": [],
   "source": []
  },
  {
   "cell_type": "code",
   "execution_count": null,
   "metadata": {},
   "outputs": [],
   "source": []
  },
  {
   "cell_type": "code",
   "execution_count": null,
   "metadata": {},
   "outputs": [],
   "source": []
  },
  {
   "cell_type": "code",
   "execution_count": null,
   "metadata": {},
   "outputs": [],
   "source": []
  }
 ],
 "metadata": {
  "kernelspec": {
   "display_name": "Julia 1.9.2",
   "language": "julia",
   "name": "julia-1.9"
  },
  "language_info": {
   "file_extension": ".jl",
   "mimetype": "application/julia",
   "name": "julia",
   "version": "1.9.2"
  }
 },
 "nbformat": 4,
 "nbformat_minor": 4
}
