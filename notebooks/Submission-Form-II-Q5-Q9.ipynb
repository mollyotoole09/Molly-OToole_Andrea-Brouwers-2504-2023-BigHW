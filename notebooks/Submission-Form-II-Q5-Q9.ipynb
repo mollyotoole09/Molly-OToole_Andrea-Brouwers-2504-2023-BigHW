{
 "cells": [
  {
   "cell_type": "markdown",
   "metadata": {},
   "source": [
    "### MATH2504 S2, 2023, BigHW Submission \n",
    "### Submission form II of IV "
   ]
  },
  {
   "cell_type": "markdown",
   "metadata": {},
   "source": [
    "Student #1 name:\n",
    "\n",
    "Student #1 ID:\n",
    "\n",
    "Student #2 name:\n",
    "\n",
    "Student #2 ID:\n",
    "\n",
    "GitHub repo: "
   ]
  },
  {
   "cell_type": "markdown",
   "metadata": {},
   "source": [
    "---\n",
    "\n",
    "**Note: It is expected that this notebook be runnable in the sense that the marker can select \"Restart & Run All\" and all code cells of solutions will execute. This requires not to have name clashes between solutions.**\n",
    "\n",
    "---"
   ]
  },
  {
   "cell_type": "markdown",
   "metadata": {},
   "source": [
    "# Solution to [Question 5](https://courses.smp.uq.edu.au/MATH2504/2023/assessment_html/bighw.html#q5)"
   ]
  },
  {
   "cell_type": "markdown",
   "metadata": {},
   "source": [
    "## 5a:"
   ]
  },
  {
   "cell_type": "code",
   "execution_count": 9,
   "metadata": {},
   "outputs": [
    {
     "name": "stdout",
     "output_type": "stream",
     "text": [
      "The abundant numbers that are less than or equal to 200 are [12, 18, 20, 24, 30, 36, 40, 42, 48, 54, 56, 60, 66, 70, 72, 78, 80, 84, 88, 90, 96, 100, 102, 104, 108, 112, 114, 120, 126, 132, 138, 140, 144, 150, 156, 160, 162, 168, 174, 176, 180, 186, 192, 196, 198, 200]\n"
     ]
    }
   ],
   "source": [
    "using Primes\n",
    "\n",
    "function abundant_test(x)\n",
    "    divisors_sum = sum(divisors(x)) - x\n",
    "    return divisors_sum > x\n",
    "end\n",
    "\n",
    "function abundant_array(max)\n",
    "    abundant_numbers = Int[]\n",
    "    for i in 12:max\n",
    "        if abundant_test(i) \n",
    "            push!(abundant_numbers, i)\n",
    "        end\n",
    "    end\n",
    "    return abundant_numbers \n",
    "end \n",
    "\n",
    "println(\"The abundant numbers that are less than or equal to 200 are $(abundant_array(200))\")\n"
   ]
  },
  {
   "cell_type": "markdown",
   "metadata": {},
   "source": [
    "## 5b:"
   ]
  },
  {
   "cell_type": "code",
   "execution_count": 10,
   "metadata": {},
   "outputs": [
    {
     "name": "stdout",
     "output_type": "stream",
     "text": [
      "The abundant numbers that are less than or equal to 200 are [12, 18, 20, 24, 30, 36, 40, 42, 48, 54, 56, 60, 66, 70, 72, 78, 80, 84, 88, 90, 96, 100, 102, 104, 108, 112, 114, 120, 126, 132, 138, 140, 144, 150, 156, 160, 162, 168, 174, 176, 180, 186, 192, 196, 198, 200]\n"
     ]
    }
   ],
   "source": [
    "using Primes\n",
    "\n",
    "function divisiors(x)\n",
    "    divisors_array = Int[]\n",
    "    for i in 1:div(x,2)\n",
    "        if n % i == 0\n",
    "            push!(divisors_array, i)\n",
    "        end\n",
    "    end\n",
    "    return divisors_array\n",
    "end\n",
    "\n",
    "function abundant_test(x)\n",
    "    divisors_sum = sum(divisors(x)) - x\n",
    "    return divisors_sum > x\n",
    "end\n",
    "\n",
    "function abundant_array(max)\n",
    "    abundant_numbers = Int[]\n",
    "    for i in 12:max\n",
    "        if abundant_test(i) \n",
    "            push!(abundant_numbers, i)\n",
    "        end\n",
    "    end\n",
    "    return abundant_numbers \n",
    "end \n",
    "\n",
    "println(\"The abundant numbers that are less than or equal to 200 are $(abundant_array(200))\")"
   ]
  },
  {
   "cell_type": "markdown",
   "metadata": {},
   "source": [
    "---\n",
    "\n",
    "*Use this area below as an experimental playground for the question. Feel free to leave some of the experimental code here with your submision. However, it will not be marked or reviewed. Make sure in your submission that if there is any experimental code here then running it does not interfere with running the actual solutions.*\n",
    "\n",
    "---"
   ]
  },
  {
   "cell_type": "code",
   "execution_count": null,
   "metadata": {},
   "outputs": [],
   "source": []
  },
  {
   "cell_type": "code",
   "execution_count": null,
   "metadata": {},
   "outputs": [],
   "source": []
  },
  {
   "cell_type": "code",
   "execution_count": null,
   "metadata": {},
   "outputs": [],
   "source": []
  },
  {
   "cell_type": "markdown",
   "metadata": {},
   "source": [
    "# Solution to [Question 6](https://courses.smp.uq.edu.au/MATH2504/2023/assessment_html/bighw.html#q6)"
   ]
  },
  {
   "cell_type": "code",
   "execution_count": null,
   "metadata": {},
   "outputs": [],
   "source": [
    "### Answer 6 here (in place of this comment)"
   ]
  },
  {
   "cell_type": "markdown",
   "metadata": {},
   "source": [
    "---\n",
    "\n",
    "*Use this area below as an experimental playground for the question. Feel free to leave some of the experimental code here with your submision. However, it will not be marked or reviewed. Make sure in your submission that if there is any experimental code here then running it does not interfere with running the actual solutions.*\n",
    "\n",
    "---"
   ]
  },
  {
   "cell_type": "code",
   "execution_count": null,
   "metadata": {},
   "outputs": [],
   "source": []
  },
  {
   "cell_type": "code",
   "execution_count": null,
   "metadata": {},
   "outputs": [],
   "source": []
  },
  {
   "cell_type": "code",
   "execution_count": null,
   "metadata": {},
   "outputs": [],
   "source": []
  },
  {
   "cell_type": "code",
   "execution_count": null,
   "metadata": {},
   "outputs": [],
   "source": []
  },
  {
   "cell_type": "markdown",
   "metadata": {},
   "source": [
    "# Solution to [Question 7](https://courses.smp.uq.edu.au/MATH2504/2023/assessment_html/bighw.html#q7)"
   ]
  },
  {
   "cell_type": "markdown",
   "metadata": {},
   "source": [
    "## 7a:"
   ]
  },
  {
   "cell_type": "code",
   "execution_count": null,
   "metadata": {},
   "outputs": [],
   "source": [
    "### Answer 7a here (in place of this comment)"
   ]
  },
  {
   "cell_type": "markdown",
   "metadata": {},
   "source": [
    "## 7b:"
   ]
  },
  {
   "cell_type": "code",
   "execution_count": null,
   "metadata": {},
   "outputs": [],
   "source": [
    "### Answer 7b here (in place of this comment)"
   ]
  },
  {
   "cell_type": "markdown",
   "metadata": {},
   "source": [
    "## 7c:"
   ]
  },
  {
   "cell_type": "code",
   "execution_count": null,
   "metadata": {},
   "outputs": [],
   "source": [
    "### Answer 7c here (in place of this comment)"
   ]
  },
  {
   "cell_type": "markdown",
   "metadata": {},
   "source": [
    "## 7d:"
   ]
  },
  {
   "cell_type": "code",
   "execution_count": null,
   "metadata": {},
   "outputs": [],
   "source": [
    "### Make this a markdown cell and answer 7d here (in place of this comment)"
   ]
  },
  {
   "cell_type": "markdown",
   "metadata": {},
   "source": [
    "---\n",
    "\n",
    "*Use this area below as an experimental playground for the question. Feel free to leave some of the experimental code here with your submision. However, it will not be marked or reviewed. Make sure in your submission that if there is any experimental code here then running it does not interfere with running the actual solutions.*\n",
    "\n",
    "---"
   ]
  },
  {
   "cell_type": "code",
   "execution_count": null,
   "metadata": {},
   "outputs": [],
   "source": []
  },
  {
   "cell_type": "code",
   "execution_count": null,
   "metadata": {},
   "outputs": [],
   "source": []
  },
  {
   "cell_type": "code",
   "execution_count": null,
   "metadata": {},
   "outputs": [],
   "source": []
  },
  {
   "cell_type": "markdown",
   "metadata": {},
   "source": [
    "# Solution to [Question 8](https://courses.smp.uq.edu.au/MATH2504/2023/assessment_html/bighw.html#q8)"
   ]
  },
  {
   "cell_type": "markdown",
   "metadata": {},
   "source": [
    "## 8a:"
   ]
  },
  {
   "cell_type": "code",
   "execution_count": 5,
   "metadata": {},
   "outputs": [
    {
     "name": "stdout",
     "output_type": "stream",
     "text": [
      "Sorted by length of last name using in-built sort:\n",
      "1\tIsaac Beh\n",
      "2\tAmy Chan\n",
      "3\tBrandon Lowe\n",
      "4\tCooper Janke\n",
      "5\tJesse Woods\n",
      "6\tLimao Chang\n",
      "7\tMaithili Mehta\n",
      "8\tNazeef Hamid\n",
      "9\tPaul Vrbik\n",
      "10\tAndy Ferris\n",
      "11\tElaine Schenk\n",
      "12\tEmma Comino\n",
      "13\tMegan Dawson\n",
      "14\tThomas Graham\n",
      "15\tAlistair Falconer\n",
      "16\tAnna Foeglein\n",
      "17\tLief Lundmark\n",
      "18\tPaul Bellette\n",
      "19\tTom Cranitch\n",
      "20\tSam Hambleton\n",
      "21\tTina Moghaddam\n",
      "22\tYoni Nazarathy\n",
      "23\tIvana Carrizo-Molina\n",
      "\n"
     ]
    }
   ],
   "source": [
    "function array_table(array, heading)\n",
    "    println(heading,\":\")\n",
    "    for (i,a) in enumerate(array)\n",
    "        println(i,\"\\t\",a)\n",
    "    end\n",
    "end\n",
    "\n",
    "names = [   \"Amy Chan\",\n",
    "            \"Maithili Mehta\",\n",
    "            \"Anna Foeglein\",\n",
    "            \"Andy Ferris\",\n",
    "            \"Thomas Graham\",\n",
    "            \"Elaine Schenk\",\n",
    "            \"Jesse Woods\",\n",
    "            \"Tina Moghaddam\",\n",
    "            \"Paul Bellette\",\n",
    "            \"Paul Vrbik\",\n",
    "            \"Tom Cranitch\",\n",
    "            \"Yoni Nazarathy\",\n",
    "            \"Sam Hambleton\",\n",
    "            \"Isaac Beh\", \n",
    "            \"Limao Chang\", \n",
    "            \"Nazeef Hamid\", \n",
    "            \"Cooper Janke\", \n",
    "            \"Brandon Lowe\", \n",
    "            \"Lief Lundmark\",\n",
    "            \"Megan Dawson\",\n",
    "            \"Alistair Falconer\",\n",
    "            \"Emma Comino\",\n",
    "            \"Ivana Carrizo-Molina\"]\n",
    "\n",
    "sorted_names = sort(names, by=(x)->(length(last(split(x,\" \"))),x))\n",
    "array_table(sorted_names, \"Sorted by length of last name using in-built sort\")\n",
    "\n",
    "println()"
   ]
  },
  {
   "cell_type": "markdown",
   "metadata": {},
   "source": [
    "## 8b:"
   ]
  },
  {
   "cell_type": "code",
   "execution_count": 11,
   "metadata": {},
   "outputs": [
    {
     "name": "stdout",
     "output_type": "stream",
     "text": [
      "Sorted by length of last name using Bubble Sort:\n",
      "1\tIsaac Beh\n",
      "2\tAmy Chan\n",
      "3\tBrandon Lowe\n",
      "4\tCooper Janke\n",
      "5\tJesse Woods\n",
      "6\tLimao Chang\n",
      "7\tMaithili Mehta\n",
      "8\tNazeef Hamid\n",
      "9\tPaul Vrbik\n",
      "10\tAndy Ferris\n",
      "11\tElaine Schenk\n",
      "12\tEmma Comino\n",
      "13\tMegan Dawson\n",
      "14\tThomas Graham\n",
      "15\tAlistair Falconer\n",
      "16\tAnna Foeglein\n",
      "17\tLief Lundmark\n",
      "18\tPaul Bellette\n",
      "19\tTom Cranitch\n",
      "20\tSam Hambleton\n",
      "21\tTina Moghaddam\n",
      "22\tYoni Nazarathy\n",
      "23\tIvana Carrizo-Molina\n",
      "\n"
     ]
    }
   ],
   "source": [
    "function array_table(array, heading)\n",
    "    println(heading,\":\")\n",
    "    for (i,a) in enumerate(array)\n",
    "        println(i,\"\\t\",a)\n",
    "    end\n",
    "end\n",
    "\n",
    "function my_sort_bubble!(a; by = identity)\n",
    "n = length(a)\n",
    "    for i in 1:n-1\n",
    "        for j in 1:n-i\n",
    "            if by(a[j]) > by(a[j+1])\n",
    "                a[j], a[j+1] = a[j+1], a[j]\n",
    "            end\n",
    "        end\n",
    "    end \n",
    "    return a\n",
    "end  \n",
    "\n",
    "names = [   \"Amy Chan\",\n",
    "            \"Maithili Mehta\",\n",
    "            \"Anna Foeglein\",\n",
    "            \"Andy Ferris\",\n",
    "            \"Thomas Graham\",\n",
    "            \"Elaine Schenk\",\n",
    "            \"Jesse Woods\",\n",
    "            \"Tina Moghaddam\",\n",
    "            \"Paul Bellette\",\n",
    "            \"Paul Vrbik\",\n",
    "            \"Tom Cranitch\",\n",
    "            \"Yoni Nazarathy\",\n",
    "            \"Sam Hambleton\",\n",
    "            \"Isaac Beh\", \n",
    "            \"Limao Chang\", \n",
    "            \"Nazeef Hamid\", \n",
    "            \"Cooper Janke\", \n",
    "            \"Brandon Lowe\", \n",
    "            \"Lief Lundmark\",\n",
    "            \"Megan Dawson\",\n",
    "            \"Alistair Falconer\",\n",
    "            \"Emma Comino\",\n",
    "            \"Ivana Carrizo-Molina\"]\n",
    "\n",
    "\n",
    "\n",
    "sorted_names = my_sort_bubble!(names, by=(a)->(length(last(split(a,\" \"))),a))\n",
    "array_table(sorted_names,\"Sorted by length of last name using Bubble Sort\")\n",
    "\n",
    "println()     \n"
   ]
  },
  {
   "cell_type": "markdown",
   "metadata": {},
   "source": [
    "## 8c:"
   ]
  },
  {
   "cell_type": "code",
   "execution_count": 12,
   "metadata": {},
   "outputs": [
    {
     "name": "stdout",
     "output_type": "stream",
     "text": [
      "Sorted by length of last name using Quick Sort:\n",
      "1\tIsaac Beh\n",
      "2\tAmy Chan\n",
      "3\tBrandon Lowe\n",
      "4\tCooper Janke\n",
      "5\tJesse Woods\n",
      "6\tLimao Chang\n",
      "7\tMaithili Mehta\n",
      "8\tNazeef Hamid\n",
      "9\tPaul Vrbik\n",
      "10\tAndy Ferris\n",
      "11\tElaine Schenk\n",
      "12\tEmma Comino\n",
      "13\tMegan Dawson\n",
      "14\tThomas Graham\n",
      "15\tAlistair Falconer\n",
      "16\tAnna Foeglein\n",
      "17\tLief Lundmark\n",
      "18\tPaul Bellette\n",
      "19\tTom Cranitch\n",
      "20\tSam Hambleton\n",
      "21\tTina Moghaddam\n",
      "22\tYoni Nazarathy\n",
      "23\tIvana Carrizo-Molina\n",
      "\n"
     ]
    }
   ],
   "source": [
    "function array_table(array, heading)\n",
    "    println(heading, \":\")\n",
    "    for (i, a) in enumerate(array)\n",
    "        println(i, \"\\t\", a)\n",
    "    end\n",
    "end\n",
    "\n",
    "function my_sort_quick!(a, lo, hi, by=identity)\n",
    "    if lo < hi\n",
    "        p = partition(a, lo, hi, by)\n",
    "        my_sort_quick!(a, lo, p-1, by)\n",
    "        my_sort_quick!(a, p + 1, hi, by)\n",
    "    end\n",
    "    return a\n",
    "end\n",
    "\n",
    "function partition(a, lo, hi, by)\n",
    "    pivot = a[hi]\n",
    "    i = lo - 1\n",
    "    for j = lo:hi - 1\n",
    "        if by(a[j]) <= by(pivot)\n",
    "            i += 1\n",
    "            a[i], a[j] = a[j], a[i]\n",
    "        end\n",
    "    end\n",
    "    a[i + 1], a[hi] = a[hi], a[i + 1]\n",
    "    return i + 1\n",
    "end\n",
    "\n",
    "names = [\n",
    "    \"Amy Chan\",\n",
    "    \"Maithili Mehta\",\n",
    "    \"Anna Foeglein\",\n",
    "    \"Andy Ferris\",\n",
    "    \"Thomas Graham\",\n",
    "    \"Elaine Schenk\",\n",
    "    \"Jesse Woods\",\n",
    "    \"Tina Moghaddam\",\n",
    "    \"Paul Bellette\",\n",
    "    \"Paul Vrbik\",\n",
    "    \"Tom Cranitch\",\n",
    "    \"Yoni Nazarathy\",\n",
    "    \"Sam Hambleton\",\n",
    "    \"Isaac Beh\",\n",
    "    \"Limao Chang\",\n",
    "    \"Nazeef Hamid\",\n",
    "    \"Cooper Janke\",\n",
    "    \"Brandon Lowe\",\n",
    "    \"Lief Lundmark\",\n",
    "    \"Megan Dawson\",\n",
    "    \"Alistair Falconer\",\n",
    "    \"Emma Comino\",\n",
    "    \"Ivana Carrizo-Molina\"\n",
    "]\n",
    "\n",
    "sorted_names = my_sort_quick!(names, 1, length(names), (a)->(length(last(split(a,\" \"))),a))\n",
    "array_table(sorted_names,\"Sorted by length of last name using Quick Sort\")\n",
    "\n",
    "println()     \n"
   ]
  },
  {
   "cell_type": "markdown",
   "metadata": {},
   "source": [
    "## 8d:"
   ]
  },
  {
   "cell_type": "code",
   "execution_count": 14,
   "metadata": {},
   "outputs": [
    {
     "name": "stdout",
     "output_type": "stream",
     "text": [
      "Time for in-built sort function with 10000 integers\n"
     ]
    },
    {
     "name": "stdout",
     "output_type": "stream",
     "text": [
      "  104.250 μs (5 allocations: 164.53 KiB)\n",
      "Time for bubble sort function with 10000 integers\n"
     ]
    },
    {
     "name": "stdout",
     "output_type": "stream",
     "text": [
      "  31.350 ms (0 allocations: 0 bytes)\n",
      "Time for quick sort function with 10000 integers\n"
     ]
    },
    {
     "name": "stdout",
     "output_type": "stream",
     "text": [
      "  1.267 μs (2 allocations: 78.17 KiB)\n",
      "Time for in-built sort function with 100000 integers\n"
     ]
    },
    {
     "name": "stdout",
     "output_type": "stream",
     "text": [
      "  988.167 μs (5 allocations: 1.53 MiB)\n",
      "Time for bubble sort function with 100000 integers\n"
     ]
    },
    {
     "name": "stdout",
     "output_type": "stream",
     "text": [
      "  3.143 s (0 allocations: 0 bytes)\n",
      "Time for quick sort function with 100000 integers\n"
     ]
    },
    {
     "name": "stdout",
     "output_type": "stream",
     "text": [
      "  14.916 μs (2 allocations: 781.30 KiB)\n",
      "Time for in-built sort function with 1000000 integers\n"
     ]
    },
    {
     "name": "stdout",
     "output_type": "stream",
     "text": [
      "  12.060 ms (5 allocations: 15.27 MiB)\n",
      "Time for quick sort function with 1000000 integers\n"
     ]
    },
    {
     "name": "stdout",
     "output_type": "stream",
     "text": [
      "  265.459 μs (2 allocations: 7.63 MiB)\n",
      "Time for in-built sort function with 10000000 integers\n"
     ]
    },
    {
     "name": "stdout",
     "output_type": "stream",
     "text": [
      "  144.409 ms (5 allocations: 152.60 MiB)\n",
      "Time for quick sort function with 10000000 integers\n"
     ]
    },
    {
     "name": "stdout",
     "output_type": "stream",
     "text": [
      "  4.417 ms (2 allocations: 76.29 MiB)\n"
     ]
    },
    {
     "name": "stdout",
     "output_type": "stream",
     "text": [
      "Time for in-built sort function with 100000000 integers\n"
     ]
    },
    {
     "name": "stdout",
     "output_type": "stream",
     "text": [
      "  1.575 s (5 allocations: 1.49 GiB)\n",
      "Time for quick sort function with 100000000 integers\n"
     ]
    },
    {
     "name": "stdout",
     "output_type": "stream",
     "text": [
      "  60.940 ms (2 allocations: 762.94 MiB)\n"
     ]
    }
   ],
   "source": [
    "using Random\n",
    "using BenchmarkTools\n",
    "\n",
    "Random.seed!(0)\n",
    "\n",
    "n = (10^4, 10^5, 10^6, 10^7, 10^8)\n",
    "\n",
    "for i in n\n",
    "    data = rand(Int, i)\n",
    "    println(\"Time for in-built sort function with $(i) integers\")\n",
    "    @btime sort($data)\n",
    "    \n",
    "    if i < 10^6\n",
    "        println(\"Time for bubble sort function with $(i) integers\")\n",
    "        @btime my_sort_bubble!($data)\n",
    "    end\n",
    "\n",
    "    println(\"Time for quick sort function with $(i) integers\")\n",
    "    @btime my_sort_quick!(copy($data), 1, length($i))\n",
    "end\n"
   ]
  },
  {
   "cell_type": "markdown",
   "metadata": {},
   "source": [
    "---\n",
    "\n",
    "*Use this area below as an experimental playground for the question. Feel free to leave some of the experimental code here with your submision. However, it will not be marked or reviewed. Make sure in your submission that if there is any experimental code here then running it does not interfere with running the actual solutions.*\n",
    "\n",
    "---"
   ]
  },
  {
   "cell_type": "code",
   "execution_count": 25,
   "metadata": {},
   "outputs": [
    {
     "ename": "LoadError",
     "evalue": "MethodError: no method matching my_sort_quick(::Vector{String}; by::var\"#102#103\")\n\n\u001b[0mClosest candidates are:\n\u001b[0m  my_sort_quick(::Any)\u001b[91m got unsupported keyword argument \"by\"\u001b[39m\n\u001b[0m\u001b[90m   @\u001b[39m \u001b[35mMain\u001b[39m \u001b[90m\u001b[4mIn[25]:8\u001b[24m\u001b[39m\n\u001b[0m  my_sort_quick(::Any, \u001b[91m::Any\u001b[39m)\u001b[91m got unsupported keyword argument \"by\"\u001b[39m\n\u001b[0m\u001b[90m   @\u001b[39m \u001b[35mMain\u001b[39m \u001b[90m\u001b[4mIn[25]:8\u001b[24m\u001b[39m\n",
     "output_type": "error",
     "traceback": [
      "MethodError: no method matching my_sort_quick(::Vector{String}; by::var\"#102#103\")\n\n\u001b[0mClosest candidates are:\n\u001b[0m  my_sort_quick(::Any)\u001b[91m got unsupported keyword argument \"by\"\u001b[39m\n\u001b[0m\u001b[90m   @\u001b[39m \u001b[35mMain\u001b[39m \u001b[90m\u001b[4mIn[25]:8\u001b[24m\u001b[39m\n\u001b[0m  my_sort_quick(::Any, \u001b[91m::Any\u001b[39m)\u001b[91m got unsupported keyword argument \"by\"\u001b[39m\n\u001b[0m\u001b[90m   @\u001b[39m \u001b[35mMain\u001b[39m \u001b[90m\u001b[4mIn[25]:8\u001b[24m\u001b[39m\n",
      "",
      "Stacktrace:",
      " [1] top-level scope",
      "   @ In[25]:19"
     ]
    }
   ],
   "source": [
    "function array_table(array, heading)\n",
    "    println(heading, \":\")\n",
    "    for (i, a) in enumerate(array)\n",
    "        println(i, \"\\t\", a)\n",
    "    end\n",
    "end\n",
    "\n",
    "function my_sort_quick(a, by = a)\n",
    "    pivot = a[rand(1:end)]\n",
    "    less_than = [i for i in a if by(i) < by(pivot)]\n",
    "    equal_to = [i for i in a if by(i) == by(pivot)]\n",
    "    greater_than = [i for i in a if by(i) > by(pivot)]\n",
    "    if a <= 1\n",
    "        return a \n",
    "    end \n",
    "    return vcat(my_sort_quick(less; by = by), equal, my_sort_quick(greater; by = by))\n",
    "end\n",
    "\n",
    "sorted_names = my_sort_quick(names, by=(a) -> reverse(split(a, \" \")))\n",
    "array_table(sorted_names, \"Sorted by last name using Quick Sort\")\n",
    "\n",
    "println()"
   ]
  },
  {
   "cell_type": "code",
   "execution_count": 27,
   "metadata": {},
   "outputs": [
    {
     "name": "stdout",
     "output_type": "stream",
     "text": [
      "Sorted by last name using quick sort:\n",
      "1\tIsaac Beh\n",
      "2\tPaul Bellette\n",
      "3\tIvana Carrizo-Molina\n",
      "4\tAmy Chan\n",
      "5\tLimao Chang\n",
      "6\tEmma Comino\n",
      "7\tTom Cranitch\n",
      "8\tMegan Dawson\n",
      "9\tAlistair Falconer\n",
      "10\tAndy Ferris\n",
      "11\tAnna Foeglein\n",
      "12\tThomas Graham\n",
      "13\tSam Hambleton\n",
      "14\tNazeef Hamid\n",
      "15\tCooper Janke\n",
      "16\tBrandon Lowe\n",
      "17\tLief Lundmark\n",
      "18\tMaithili Mehta\n",
      "19\tTina Moghaddam\n",
      "20\tYoni Nazarathy\n",
      "21\tElaine Schenk\n",
      "22\tPaul Vrbik\n",
      "23\tJesse Woods\n"
     ]
    }
   ],
   "source": [
    "function my_sort_quick!(array, left, right, key_func)\n",
    "    if left < right\n",
    "        pivot_index = partition(array, left, right, key_func)\n",
    "        my_sort_quick!(array, left, pivot_index - 1, key_func)\n",
    "        my_sort_quick!(array, pivot_index + 1, right, key_func)\n",
    "    end\n",
    "end\n",
    "\n",
    "function partition(array, left, right, key_func)\n",
    "    pivot = array[right]\n",
    "    i = left - 1\n",
    "    for j = left:right - 1\n",
    "        if key_func(array[j]) <= key_func(pivot)\n",
    "            i += 1\n",
    "            array[i], array[j] = array[j], array[i]\n",
    "        end\n",
    "    end\n",
    "    array[i + 1], array[right] = array[right], array[i + 1]\n",
    "    return i + 1\n",
    "end\n",
    "\n",
    "function array_table(array, heading)\n",
    "    println(heading, \":\")\n",
    "    for (i, a) in enumerate(array)\n",
    "        println(i, \"\\t\", a)\n",
    "    end\n",
    "end\n",
    "\n",
    "names = [\"Amy Chan\",\n",
    "    \"Maithili Mehta\",\n",
    "    \"Anna Foeglein\",\n",
    "    \"Andy Ferris\",\n",
    "    \"Thomas Graham\",\n",
    "    \"Elaine Schenk\",\n",
    "    \"Jesse Woods\",\n",
    "    \"Tina Moghaddam\",\n",
    "    \"Paul Bellette\",\n",
    "    \"Paul Vrbik\",\n",
    "    \"Tom Cranitch\",\n",
    "    \"Yoni Nazarathy\",\n",
    "    \"Sam Hambleton\",\n",
    "    \"Isaac Beh\",\n",
    "    \"Limao Chang\",\n",
    "    \"Nazeef Hamid\",\n",
    "    \"Cooper Janke\",\n",
    "    \"Brandon Lowe\",\n",
    "    \"Lief Lundmark\",\n",
    "    \"Megan Dawson\",\n",
    "    \"Alistair Falconer\",\n",
    "    \"Emma Comino\",\n",
    "    \"Ivana Carrizo-Molina\"]\n",
    "\n",
    "my_sort_quick!(names, 1, length(names), x -> reverse(split(x, \" \")))\n",
    "array_table(names, \"Sorted by last name using quick sort\")\n"
   ]
  },
  {
   "cell_type": "code",
   "execution_count": null,
   "metadata": {},
   "outputs": [],
   "source": []
  },
  {
   "cell_type": "markdown",
   "metadata": {},
   "source": [
    "# Solution to [Question 9](https://courses.smp.uq.edu.au/MATH2504/2023/assessment_html/bighw.html#q9)"
   ]
  },
  {
   "cell_type": "markdown",
   "metadata": {},
   "source": [
    "## 9a:"
   ]
  },
  {
   "cell_type": "code",
   "execution_count": null,
   "metadata": {},
   "outputs": [],
   "source": [
    "### Answer 9a here (in place of this comment)"
   ]
  },
  {
   "cell_type": "markdown",
   "metadata": {},
   "source": [
    "## 9b:"
   ]
  },
  {
   "cell_type": "code",
   "execution_count": null,
   "metadata": {},
   "outputs": [],
   "source": [
    "### Answer 9b here (in place of this comment)"
   ]
  },
  {
   "cell_type": "markdown",
   "metadata": {},
   "source": [
    "## 9c:"
   ]
  },
  {
   "cell_type": "code",
   "execution_count": null,
   "metadata": {},
   "outputs": [],
   "source": [
    "### Answer 9c here (in place of this comment)"
   ]
  },
  {
   "cell_type": "markdown",
   "metadata": {},
   "source": [
    "## 9d:\n"
   ]
  },
  {
   "cell_type": "code",
   "execution_count": null,
   "metadata": {},
   "outputs": [],
   "source": [
    "### Make this a markdown cell and answer 9d here (in place of this comment)"
   ]
  },
  {
   "cell_type": "markdown",
   "metadata": {},
   "source": [
    "---\n",
    "\n",
    "*Use this area below as an experimental playground for the question. Feel free to leave some of the experimental code here with your submision. However, it will not be marked or reviewed. Make sure in your submission that if there is any experimental code here then running it does not interfere with running the actual solutions.*\n",
    "\n",
    "---"
   ]
  },
  {
   "cell_type": "code",
   "execution_count": null,
   "metadata": {},
   "outputs": [],
   "source": []
  },
  {
   "cell_type": "code",
   "execution_count": null,
   "metadata": {},
   "outputs": [],
   "source": []
  },
  {
   "cell_type": "code",
   "execution_count": null,
   "metadata": {},
   "outputs": [],
   "source": []
  }
 ],
 "metadata": {
  "kernelspec": {
   "display_name": "Julia 1.9.2",
   "language": "julia",
   "name": "julia-1.9"
  },
  "language_info": {
   "file_extension": ".jl",
   "mimetype": "application/julia",
   "name": "julia",
   "version": "1.9.2"
  }
 },
 "nbformat": 4,
 "nbformat_minor": 4
}
